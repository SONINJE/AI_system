{
  "nbformat": 4,
  "nbformat_minor": 0,
  "metadata": {
    "colab": {
      "name": "Assignment 02.ipynb",
      "provenance": [],
      "collapsed_sections": [],
      "include_colab_link": true
    },
    "kernelspec": {
      "name": "python3",
      "display_name": "Python 3"
    },
    "language_info": {
      "name": "python"
    }
  },
  "cells": [
    {
      "cell_type": "markdown",
      "metadata": {
        "id": "view-in-github",
        "colab_type": "text"
      },
      "source": [
        "<a href=\"https://colab.research.google.com/github/SONINJE/AI_system/blob/main/Assignment_02.ipynb\" target=\"_parent\"><img src=\"https://colab.research.google.com/assets/colab-badge.svg\" alt=\"Open In Colab\"/></a>"
      ]
    },
    {
      "cell_type": "code",
      "execution_count": 4,
      "metadata": {
        "colab": {
          "base_uri": "https://localhost:8080/"
        },
        "id": "N9YUsOry9nD0",
        "outputId": "5b9d25ee-dfd7-48d4-b6e4-5dd0a975f9ac"
      },
      "outputs": [
        {
          "output_type": "stream",
          "name": "stdout",
          "text": [
            "김밥의 가격은? ('김밥', 5000)\n"
          ]
        },
        {
          "output_type": "execute_result",
          "data": {
            "text/plain": [
              "dict_values([5000, 3000, 2000])"
            ]
          },
          "metadata": {},
          "execution_count": 4
        }
      ],
      "source": [
        "# 사전의 구조와 이해\n",
        "\n",
        "price = {'김밥': 5000, '어묵':3000, '떡볶이':2000}\n",
        "\n",
        "item=list(price.items())\n",
        "print(\"김밥의 가격은?\", item[0])\n",
        "price.values()"
      ]
    },
    {
      "cell_type": "code",
      "source": [
        "# 리스트의 슬라이싱을 사용하여 아래를 출력하세요\n",
        "\n",
        "tp = [1,2,3,4,5,6,7]\n",
        "\n",
        "print(tp[0])\n",
        "print(tp[:-4])\n",
        "print(tp[-4:])\n",
        "print(tp[-1])\n",
        "print(tp[::-1])\n"
      ],
      "metadata": {
        "colab": {
          "base_uri": "https://localhost:8080/"
        },
        "id": "lQCEERSl-Wba",
        "outputId": "83a2b5e4-17a9-47b4-8785-8126b6469a5d"
      },
      "execution_count": 3,
      "outputs": [
        {
          "output_type": "stream",
          "name": "stdout",
          "text": [
            "1\n",
            "[1, 2, 3]\n",
            "[4, 5, 6, 7]\n",
            "7\n",
            "[7, 6, 5, 4, 3, 2, 1]\n"
          ]
        }
      ]
    },
    {
      "cell_type": "code",
      "source": [
        "# 조건문\n",
        "# 점수를 입력받아 등급을 출력하세요\n",
        "# 등급표 81~100\tA / 61~80\tB / 41~60\tC / 21~40\tD / 0~20\tE\n",
        "\n",
        "score = int(input(\"점수를 입력하세요: \"))\n",
        "\n",
        "if(score >= 81):    grade=\"A\"\n",
        "elif(score >= 61):    grade=\"B\"\n",
        "elif(score >= 41):    grade=\"C\"\n",
        "elif(score >= 21):    grade=\"D\"\n",
        "else:    grade=\"E\"\n",
        "print('점수는',score ,'점이며''등급은',grade,'등급입니다.')\n",
        "\n"
      ],
      "metadata": {
        "colab": {
          "base_uri": "https://localhost:8080/"
        },
        "id": "YxX6NxrNCK5z",
        "outputId": "49d9e1a9-dce4-4c59-ca40-ed52ddff1493"
      },
      "execution_count": 6,
      "outputs": [
        {
          "output_type": "stream",
          "name": "stdout",
          "text": [
            "점수를 입력하세요: 80\n",
            "점수는 80 점이며등급은 B 등급입니다.\n"
          ]
        }
      ]
    },
    {
      "cell_type": "code",
      "source": [
        "# 함수를 만들고 두 수를 입력받아 연산하세요\n",
        "\n",
        "a = int(input('첫 번째 정수를 입력하세요: '))\n",
        "b = int(input('두 번째 정수를 입력하세요: '))\n",
        "\n",
        "print(\"덧셈 함수 연산:\",a+b)\n",
        "print(\"곱셈 함수 연산:\",a*b)\n",
        "print(\"제곱 함수 연산:\",a**b)\n"
      ],
      "metadata": {
        "colab": {
          "base_uri": "https://localhost:8080/"
        },
        "id": "mD9n7jRG-8qL",
        "outputId": "7af6a722-6437-4515-df03-eb5d9d82f21f"
      },
      "execution_count": 18,
      "outputs": [
        {
          "output_type": "stream",
          "name": "stdout",
          "text": [
            "첫 번째 정수를 입력하세요: 3\n",
            "두 번째 정수를 입력하세요: 4\n",
            "덧셈 함수 연산: 7\n",
            "곱셈 함수 연산: 12\n",
            "제곱 함수 연산: 81\n"
          ]
        }
      ]
    },
    {
      "cell_type": "code",
      "source": [
        "# 알고리즘 생성\n",
        "# 피보나치 수열을 계산하는 함수를 생성하고 자연수 10을 넣어 실행하세요\n",
        "\n",
        "def pivo(n: int) -> int:\n",
        "  if n >= 2:\n",
        "        return pivo(n - 2) + pivo(n - 1)\n",
        "  else: \n",
        "        return n\n",
        "\n",
        "print(pivo(10))\n"
      ],
      "metadata": {
        "colab": {
          "base_uri": "https://localhost:8080/"
        },
        "id": "OL3QMyusC9V0",
        "outputId": "eb92c715-e338-4337-fc39-223a0edb554c"
      },
      "execution_count": 17,
      "outputs": [
        {
          "output_type": "stream",
          "name": "stdout",
          "text": [
            "55\n"
          ]
        }
      ]
    },
    {
      "cell_type": "code",
      "source": [
        "# 클래스\n",
        "# 사람 (Human) 클래스를 정의하고 (이름, 나이, 성별)을 받는 생성자를 추가하세요.\n",
        "\n",
        "class Human:\n",
        "    def __init__(self, name, age, gender):\n",
        "        self.name = name\n",
        "        self.age = age\n",
        "        self.gender = gender\n",
        "\n",
        "    def info(self):\n",
        "        print(f\"이름: {self.name}, 나이: {self.age}, 성별: {self.gender}\")\n",
        "\n",
        "Son = Human(\"손인제\", 25, \"남자\")\n",
        "Son.info()"
      ],
      "metadata": {
        "id": "nYv044w8Ae0Z",
        "colab": {
          "base_uri": "https://localhost:8080/"
        },
        "outputId": "10bcc63d-03ed-4798-c5da-ef9fe426d15c"
      },
      "execution_count": 16,
      "outputs": [
        {
          "output_type": "stream",
          "name": "stdout",
          "text": [
            "이름: 손인제, 나이: 25, 성별: 남자\n"
          ]
        }
      ]
    }
  ]
}