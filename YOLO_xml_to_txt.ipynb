{
  "nbformat": 4,
  "nbformat_minor": 0,
  "metadata": {
    "colab": {
      "name": "YOLO xml to txt ",
      "provenance": [],
      "toc_visible": true,
      "authorship_tag": "ABX9TyPItsl/QmOc31GWDZJ5j8Xj",
      "include_colab_link": true
    },
    "kernelspec": {
      "name": "python3",
      "display_name": "Python 3"
    },
    "language_info": {
      "name": "python"
    }
  },
  "cells": [
    {
      "cell_type": "markdown",
      "metadata": {
        "id": "view-in-github",
        "colab_type": "text"
      },
      "source": [
        "<a href=\"https://colab.research.google.com/github/SONINJE/AI_system/blob/main/YOLO_xml_to_txt.ipynb\" target=\"_parent\"><img src=\"https://colab.research.google.com/assets/colab-badge.svg\" alt=\"Open In Colab\"/></a>"
      ]
    },
    {
      "cell_type": "code",
      "source": [
        "import os, sys \n",
        "from google.colab import drive \n",
        "\n",
        "drive.mount('/content/drive')\n"
      ],
      "metadata": {
        "id": "DhMs2ZxmRdlQ",
        "colab": {
          "base_uri": "https://localhost:8080/"
        },
        "outputId": "00e9760f-ccb0-4dfb-e6e8-94bc512628ef"
      },
      "execution_count": 13,
      "outputs": [
        {
          "output_type": "stream",
          "name": "stdout",
          "text": [
            "Mounted at /content/drive\n"
          ]
        }
      ]
    },
    {
      "cell_type": "code",
      "source": [
        "cd /content/drive/MyDrive/Colab Notebooks/Yolov3"
      ],
      "metadata": {
        "id": "mr6dlWMoRe9Q",
        "colab": {
          "base_uri": "https://localhost:8080/"
        },
        "outputId": "cb05b2bc-1b63-4ba4-ca9b-d2cb4b817251"
      },
      "execution_count": 14,
      "outputs": [
        {
          "output_type": "stream",
          "name": "stdout",
          "text": [
            "/content/drive/MyDrive/Colab Notebooks/Yolov3\n"
          ]
        }
      ]
    },
    {
      "cell_type": "code",
      "source": [
        "pip install numpy==1.19.0"
      ],
      "metadata": {
        "id": "m-sMqflcRgQb",
        "colab": {
          "base_uri": "https://localhost:8080/",
          "height": 347
        },
        "outputId": "3142039d-7846-4dc7-9983-ca99667d1377"
      },
      "execution_count": 15,
      "outputs": [
        {
          "output_type": "stream",
          "name": "stdout",
          "text": [
            "Looking in indexes: https://pypi.org/simple, https://us-python.pkg.dev/colab-wheels/public/simple/\n",
            "Collecting numpy==1.19.0\n",
            "  Downloading numpy-1.19.0-cp37-cp37m-manylinux2010_x86_64.whl (14.6 MB)\n",
            "\u001b[K     |████████████████████████████████| 14.6 MB 4.9 MB/s \n",
            "\u001b[?25hInstalling collected packages: numpy\n",
            "  Attempting uninstall: numpy\n",
            "    Found existing installation: numpy 1.21.6\n",
            "    Uninstalling numpy-1.21.6:\n",
            "      Successfully uninstalled numpy-1.21.6\n",
            "\u001b[31mERROR: pip's dependency resolver does not currently take into account all the packages that are installed. This behaviour is the source of the following dependency conflicts.\n",
            "xarray-einstats 0.2.2 requires numpy>=1.21, but you have numpy 1.19.0 which is incompatible.\n",
            "tensorflow 2.8.2+zzzcolab20220719082949 requires numpy>=1.20, but you have numpy 1.19.0 which is incompatible.\n",
            "cmdstanpy 1.0.4 requires numpy>=1.21, but you have numpy 1.19.0 which is incompatible.\u001b[0m\n",
            "Successfully installed numpy-1.19.0\n"
          ]
        },
        {
          "output_type": "display_data",
          "data": {
            "application/vnd.colab-display-data+json": {
              "pip_warning": {
                "packages": [
                  "numpy"
                ]
              }
            }
          },
          "metadata": {}
        }
      ]
    },
    {
      "cell_type": "code",
      "execution_count": 16,
      "metadata": {
        "colab": {
          "base_uri": "https://localhost:8080/"
        },
        "id": "luRGclur8qJ3",
        "outputId": "89996dde-2e55-4ad6-ce20-00131c396067"
      },
      "outputs": [
        {
          "output_type": "stream",
          "name": "stdout",
          "text": [
            "Successfully converted xml to txt.\n"
          ]
        }
      ],
      "source": [
        "import os\n",
        "import glob\n",
        "import csv\n",
        "import xml.etree.ElementTree as ET\n",
        "\n",
        "os.chdir(r'/content/drive/MyDrive/Colab Notebooks/Yolov3/fruit/train')\n",
        "path = r'/content/drive/MyDrive/Colab Notebooks/Yolov3/fruit/train'\n",
        "\n",
        "def xml_to_txt(path):\n",
        "    txt_list = []\n",
        "    for xml_file in glob.glob(path + '/*.xml'):\n",
        "        everyrow_xml_list = []\n",
        "        tree = ET.parse(xml_file)\n",
        "        root = tree.getroot()\n",
        "        everyrow_xml_list.append(path + '/' + root.find('filename').text)\n",
        "        member_object = root.findall('object')\n",
        "\n",
        "        temp_dict = dict(obj_class=[], xmin=[], xmax=[], ymin=[], ymax=[])\n",
        "        for member in member_object:\n",
        "            xmin = str(int(member[4][0].text))\n",
        "            ymin = str(int(member[4][1].text))\n",
        "            xmax = str(int(member[4][2].text))\n",
        "            ymax = str(int(member[4][3].text))\n",
        "            if xmin==\"0\":\n",
        "                xmin=\"1\"\n",
        "            if ymin==\"0\":\n",
        "                ymin=\"1\"\n",
        "            if xmax==\"0\":\n",
        "                xmax=\"1\"\n",
        "            if ymax==\"0\":\n",
        "                ymax=\"1\"\n",
        "\n",
        "\n",
        "        temp_dict['xmin'] = xmin\n",
        "        temp_dict['ymin'] = ymin\n",
        "        temp_dict['xmax'] = xmax\n",
        "        temp_dict['ymax'] = ymax\n",
        "\n",
        "        for member in root.findall('object'):\n",
        "            if member[0].text == 'apple':\n",
        "                obj_class ='0'\n",
        "            elif member[0].text == 'banana':\n",
        "                obj_class = '1'\n",
        "            elif member[0].text == 'orange':\n",
        "                obj_class = '2'\n",
        "\n",
        "            temp_dict['obj_class'] = obj_class   \n",
        "            value = temp_dict['xmin']+', '+temp_dict['ymin']+', '+temp_dict['xmax']+', '+temp_dict['ymax']+', '+temp_dict['obj_class']\n",
        "            everyrow_xml_list.append(value)\n",
        "        txt_list.append(everyrow_xml_list)#image_path x_min,y_min,x_max,y_max,class_id  x_min,y_min,x_max,y_max,class_id ……\n",
        "    return txt_list\n",
        "\n",
        "\n",
        "\n",
        "def main():\n",
        "    image_path = path\n",
        "    xml2txt_list = xml_to_txt(image_path)\n",
        "    with open(r'/content/drive/MyDrive/Colab Notebooks/Yolov3/fruit/train.txt', 'w', newline='', encoding='utf-8') as f:\n",
        "        writer = csv.writer(f,delimiter=' ')\n",
        "        writer.writerows(xml2txt_list)\n",
        "    print('Successfully converted xml to txt.')\n",
        "\n",
        "if __name__ == '__main__':\n",
        "    main()"
      ]
    },
    {
      "cell_type": "code",
      "source": [
        "import os\n",
        "import glob\n",
        "import csv\n",
        "import xml.etree.ElementTree as ET\n",
        "\n",
        "os.chdir(r'/content/drive/MyDrive/Colab Notebooks/Yolov3/fruit/test')\n",
        "path = r'/content/drive/MyDrive/Colab Notebooks/Yolov3/fruit/test'\n",
        "\n",
        "def xml_to_txt(path):\n",
        "    txt_list = []\n",
        "    for xml_file in glob.glob(path + '/*.xml'):\n",
        "        everyrow_xml_list = []\n",
        "        tree = ET.parse(xml_file)\n",
        "        root = tree.getroot()\n",
        "        everyrow_xml_list.append(path + '/' + root.find('filename').text)\n",
        "        member_object = root.findall('object')\n",
        "\n",
        "        temp_dict = dict(obj_class=[], xmin=[], xmax=[], ymin=[], ymax=[])\n",
        "        for member in member_object:\n",
        "            xmin = str(int(member[4][0].text))\n",
        "            ymin = str(int(member[4][1].text))\n",
        "            xmax = str(int(member[4][2].text))\n",
        "            ymax = str(int(member[4][3].text))\n",
        "            if xmin==\"0\":\n",
        "                xmin=\"1\"\n",
        "            if ymin==\"0\":\n",
        "                ymin=\"1\"\n",
        "            if xmax==\"0\":\n",
        "                xmax=\"1\"\n",
        "            if ymax==\"0\":\n",
        "                ymax=\"1\"\n",
        "\n",
        "\n",
        "        temp_dict['xmin'] = xmin\n",
        "        temp_dict['ymin'] = ymin\n",
        "        temp_dict['xmax'] = xmax\n",
        "        temp_dict['ymax'] = ymax\n",
        "\n",
        "        for member in root.findall('object'):\n",
        "            if member[0].text == 'apple':\n",
        "                obj_class ='0'\n",
        "            elif member[0].text == 'banana':\n",
        "                obj_class = '1'\n",
        "            elif member[0].text == 'orange':\n",
        "                obj_class = '2'\n",
        "\n",
        "            temp_dict['obj_class'] = obj_class\n",
        "            value = temp_dict['xmin']+', '+temp_dict['ymin']+', '+temp_dict['xmax']+', '+temp_dict['ymax']+', '+temp_dict['obj_class']\n",
        "            everyrow_xml_list.append(value)\n",
        "        txt_list.append(everyrow_xml_list)#image_path x_min,y_min,x_max,y_max,class_id  x_min,y_min,x_max,y_max,class_id ……\n",
        "    return txt_list\n",
        "\n",
        "\n",
        "\n",
        "def main():\n",
        "    image_path = path\n",
        "    xml2txt_list = xml_to_txt(image_path)\n",
        "    with open(r'/content/drive/MyDrive/Colab Notebooks/Yolov3/fruit/test.txt', 'w', newline='', encoding='utf-8') as f:\n",
        "        writer = csv.writer(f,delimiter=' ')\n",
        "        writer.writerows(xml2txt_list)\n",
        "    print('Successfully converted xml to txt.')\n",
        "\n",
        "if __name__ == '__main__':\n",
        "    main()"
      ],
      "metadata": {
        "colab": {
          "base_uri": "https://localhost:8080/"
        },
        "id": "3zN2lnQCRUW5",
        "outputId": "01d56a32-62c9-412c-dfad-ac6cb85217a2"
      },
      "execution_count": 17,
      "outputs": [
        {
          "output_type": "stream",
          "name": "stdout",
          "text": [
            "Successfully converted xml to txt.\n"
          ]
        }
      ]
    },
    {
      "cell_type": "markdown",
      "source": [
        ""
      ],
      "metadata": {
        "id": "GX_0CtNFUNA9"
      }
    }
  ]
}