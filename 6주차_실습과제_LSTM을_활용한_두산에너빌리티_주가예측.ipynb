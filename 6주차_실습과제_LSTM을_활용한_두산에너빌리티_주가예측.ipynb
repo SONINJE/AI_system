{
  "cells": [
    {
      "cell_type": "markdown",
      "metadata": {
        "id": "view-in-github",
        "colab_type": "text"
      },
      "source": [
        "<a href=\"https://colab.research.google.com/github/SONINJE/AI_system/blob/main/6%EC%A3%BC%EC%B0%A8_%EC%8B%A4%EC%8A%B5%EA%B3%BC%EC%A0%9C_LSTM%EC%9D%84_%ED%99%9C%EC%9A%A9%ED%95%9C_%EB%91%90%EC%82%B0%EC%97%90%EB%84%88%EB%B9%8C%EB%A6%AC%ED%8B%B0_%EC%A3%BC%EA%B0%80%EC%98%88%EC%B8%A1.ipynb\" target=\"_parent\"><img src=\"https://colab.research.google.com/assets/colab-badge.svg\" alt=\"Open In Colab\"/></a>"
      ]
    },
    {
      "cell_type": "markdown",
      "metadata": {
        "id": "Pyb1-sOD8bUn"
      },
      "source": [
        "# LSTM을 활용한 주가 예측 모델"
      ]
    },
    {
      "cell_type": "markdown",
      "metadata": {
        "id": "NFXSQum-8bUq"
      },
      "source": [
        "이번 튜토리얼 에서는 다음과 같은 **프로세스 파이프라인**으로 주가 예측을 진행합니다.\n",
        "\n",
        "- FinanceDataReader를 활용하여 주가 데이터 받아오기\n",
        "- TensorFlow Dataset 클래스를 활용하여 주가 데이터 구축\n",
        "- LSTM 을 활용한 주가 예측 모델 구축"
      ]
    },
    {
      "cell_type": "markdown",
      "metadata": {
        "id": "C-yRpDHZ8bUq"
      },
      "source": [
        "## 필요한 모듈 import"
      ]
    },
    {
      "cell_type": "code",
      "execution_count": 1,
      "metadata": {
        "id": "xXuU_RJC8bUr"
      },
      "outputs": [],
      "source": [
        "import pandas as pd\n",
        "import numpy as np\n",
        "import matplotlib.pyplot as plt\n",
        "import seaborn as sns\n",
        "import warnings\n",
        "import os\n",
        "\n",
        "%matplotlib inline\n",
        "warnings.filterwarnings('ignore')\n",
        "plt.rcParams['figure.figsize'] = (15, 20)\n",
        "\n",
        "plt.rcParams['font.family'] = 'NanumGothic'"
      ]
    },
    {
      "cell_type": "markdown",
      "metadata": {
        "id": "K2avgmw-8bUr"
      },
      "source": [
        "## 데이터 (FinanceDataReader)"
      ]
    },
    {
      "cell_type": "markdown",
      "metadata": {
        "id": "Z_Q2Maui8bUs"
      },
      "source": [
        "**FinanceDataReader**는 주가 데이터를 편리하게 가져올 수 있는 파이썬 패키지입니다.\n",
        "\n",
        "- [GitHub Repo](https://github.com/FinanceData/FinanceDataReader)"
      ]
    },
    {
      "cell_type": "markdown",
      "metadata": {
        "id": "V7X2JMIx8bUs"
      },
      "source": [
        "**FinanceDataReader**설치"
      ]
    },
    {
      "cell_type": "code",
      "execution_count": 2,
      "metadata": {
        "id": "4AaUNS5T8bUs",
        "colab": {
          "base_uri": "https://localhost:8080/"
        },
        "outputId": "47c101a0-88b9-46ab-8e45-d32ee36bdaa0"
      },
      "outputs": [
        {
          "output_type": "stream",
          "name": "stdout",
          "text": [
            "Looking in indexes: https://pypi.org/simple, https://us-python.pkg.dev/colab-wheels/public/simple/\n",
            "Collecting finance-datareader\n",
            "  Downloading finance_datareader-0.9.34-py3-none-any.whl (17 kB)\n",
            "Collecting requests-file\n",
            "  Downloading requests_file-1.5.1-py2.py3-none-any.whl (3.7 kB)\n",
            "Requirement already satisfied: pandas>=0.19.2 in /usr/local/lib/python3.7/dist-packages (from finance-datareader) (1.3.5)\n",
            "Requirement already satisfied: lxml in /usr/local/lib/python3.7/dist-packages (from finance-datareader) (4.2.6)\n",
            "Requirement already satisfied: tqdm in /usr/local/lib/python3.7/dist-packages (from finance-datareader) (4.64.0)\n",
            "Requirement already satisfied: requests>=2.3.0 in /usr/local/lib/python3.7/dist-packages (from finance-datareader) (2.23.0)\n",
            "Requirement already satisfied: numpy>=1.17.3 in /usr/local/lib/python3.7/dist-packages (from pandas>=0.19.2->finance-datareader) (1.21.6)\n",
            "Requirement already satisfied: python-dateutil>=2.7.3 in /usr/local/lib/python3.7/dist-packages (from pandas>=0.19.2->finance-datareader) (2.8.2)\n",
            "Requirement already satisfied: pytz>=2017.3 in /usr/local/lib/python3.7/dist-packages (from pandas>=0.19.2->finance-datareader) (2022.1)\n",
            "Requirement already satisfied: six>=1.5 in /usr/local/lib/python3.7/dist-packages (from python-dateutil>=2.7.3->pandas>=0.19.2->finance-datareader) (1.15.0)\n",
            "Requirement already satisfied: urllib3!=1.25.0,!=1.25.1,<1.26,>=1.21.1 in /usr/local/lib/python3.7/dist-packages (from requests>=2.3.0->finance-datareader) (1.24.3)\n",
            "Requirement already satisfied: chardet<4,>=3.0.2 in /usr/local/lib/python3.7/dist-packages (from requests>=2.3.0->finance-datareader) (3.0.4)\n",
            "Requirement already satisfied: idna<3,>=2.5 in /usr/local/lib/python3.7/dist-packages (from requests>=2.3.0->finance-datareader) (2.10)\n",
            "Requirement already satisfied: certifi>=2017.4.17 in /usr/local/lib/python3.7/dist-packages (from requests>=2.3.0->finance-datareader) (2022.6.15)\n",
            "Installing collected packages: requests-file, finance-datareader\n",
            "Successfully installed finance-datareader-0.9.34 requests-file-1.5.1\n"
          ]
        }
      ],
      "source": [
        "!pip install finance-datareader"
      ]
    },
    {
      "cell_type": "code",
      "execution_count": 3,
      "metadata": {
        "id": "hYWwNFXV8bUt"
      },
      "outputs": [],
      "source": [
        "import FinanceDataReader as fdr"
      ]
    },
    {
      "cell_type": "code",
      "execution_count": 8,
      "metadata": {
        "id": "iIIILf728bUt"
      },
      "outputs": [],
      "source": [
        "# 두산에너빌리티(034020) 전체 (1996-11-05 ~ 현재)\n",
        "dosan = fdr.DataReader('034020')"
      ]
    },
    {
      "cell_type": "markdown",
      "metadata": {
        "id": "RM85qQog8bUu"
      },
      "source": [
        "매우 편리하게 삼성전자 주가 데이터를 `DataFrame`형식으로 받아옵니다.\n",
        "\n",
        "기본 **오름차순 정렬**이 된 데이터임을 알 수 있습니다.\n",
        "\n",
        "### 컬럼 설명\n",
        "\n",
        "- `Open`:   시가\n",
        "- `High`:   고가\n",
        "- `Low`:    저가\n",
        "- `Close`:  종가\n",
        "- `Volume`: 거래량\n",
        "- `Change`: 대비"
      ]
    },
    {
      "cell_type": "code",
      "execution_count": 9,
      "metadata": {
        "id": "vDQG1PIR8bUu",
        "outputId": "067d56fd-dea4-4d27-8a78-4e83cdadc80a",
        "colab": {
          "base_uri": "https://localhost:8080/",
          "height": 238
        }
      },
      "outputs": [
        {
          "output_type": "execute_result",
          "data": {
            "text/plain": [
              "             Open   High    Low  Close   Volume    Change\n",
              "Date                                                     \n",
              "2022-07-05  18350  18700  17850  18400  5072898  0.002725\n",
              "2022-07-06  18600  18800  17400  17450  6581996 -0.051630\n",
              "2022-07-07  18100  18850  17800  18700  7893062  0.071633\n",
              "2022-07-08  19100  19100  18400  18550  4196993 -0.008021\n",
              "2022-07-11  18650  18700  18100  18350  2737340 -0.010782"
            ],
            "text/html": [
              "\n",
              "  <div id=\"df-aa89e4a1-ab4f-4cf7-bce9-34039894782f\">\n",
              "    <div class=\"colab-df-container\">\n",
              "      <div>\n",
              "<style scoped>\n",
              "    .dataframe tbody tr th:only-of-type {\n",
              "        vertical-align: middle;\n",
              "    }\n",
              "\n",
              "    .dataframe tbody tr th {\n",
              "        vertical-align: top;\n",
              "    }\n",
              "\n",
              "    .dataframe thead th {\n",
              "        text-align: right;\n",
              "    }\n",
              "</style>\n",
              "<table border=\"1\" class=\"dataframe\">\n",
              "  <thead>\n",
              "    <tr style=\"text-align: right;\">\n",
              "      <th></th>\n",
              "      <th>Open</th>\n",
              "      <th>High</th>\n",
              "      <th>Low</th>\n",
              "      <th>Close</th>\n",
              "      <th>Volume</th>\n",
              "      <th>Change</th>\n",
              "    </tr>\n",
              "    <tr>\n",
              "      <th>Date</th>\n",
              "      <th></th>\n",
              "      <th></th>\n",
              "      <th></th>\n",
              "      <th></th>\n",
              "      <th></th>\n",
              "      <th></th>\n",
              "    </tr>\n",
              "  </thead>\n",
              "  <tbody>\n",
              "    <tr>\n",
              "      <th>2022-07-05</th>\n",
              "      <td>18350</td>\n",
              "      <td>18700</td>\n",
              "      <td>17850</td>\n",
              "      <td>18400</td>\n",
              "      <td>5072898</td>\n",
              "      <td>0.002725</td>\n",
              "    </tr>\n",
              "    <tr>\n",
              "      <th>2022-07-06</th>\n",
              "      <td>18600</td>\n",
              "      <td>18800</td>\n",
              "      <td>17400</td>\n",
              "      <td>17450</td>\n",
              "      <td>6581996</td>\n",
              "      <td>-0.051630</td>\n",
              "    </tr>\n",
              "    <tr>\n",
              "      <th>2022-07-07</th>\n",
              "      <td>18100</td>\n",
              "      <td>18850</td>\n",
              "      <td>17800</td>\n",
              "      <td>18700</td>\n",
              "      <td>7893062</td>\n",
              "      <td>0.071633</td>\n",
              "    </tr>\n",
              "    <tr>\n",
              "      <th>2022-07-08</th>\n",
              "      <td>19100</td>\n",
              "      <td>19100</td>\n",
              "      <td>18400</td>\n",
              "      <td>18550</td>\n",
              "      <td>4196993</td>\n",
              "      <td>-0.008021</td>\n",
              "    </tr>\n",
              "    <tr>\n",
              "      <th>2022-07-11</th>\n",
              "      <td>18650</td>\n",
              "      <td>18700</td>\n",
              "      <td>18100</td>\n",
              "      <td>18350</td>\n",
              "      <td>2737340</td>\n",
              "      <td>-0.010782</td>\n",
              "    </tr>\n",
              "  </tbody>\n",
              "</table>\n",
              "</div>\n",
              "      <button class=\"colab-df-convert\" onclick=\"convertToInteractive('df-aa89e4a1-ab4f-4cf7-bce9-34039894782f')\"\n",
              "              title=\"Convert this dataframe to an interactive table.\"\n",
              "              style=\"display:none;\">\n",
              "        \n",
              "  <svg xmlns=\"http://www.w3.org/2000/svg\" height=\"24px\"viewBox=\"0 0 24 24\"\n",
              "       width=\"24px\">\n",
              "    <path d=\"M0 0h24v24H0V0z\" fill=\"none\"/>\n",
              "    <path d=\"M18.56 5.44l.94 2.06.94-2.06 2.06-.94-2.06-.94-.94-2.06-.94 2.06-2.06.94zm-11 1L8.5 8.5l.94-2.06 2.06-.94-2.06-.94L8.5 2.5l-.94 2.06-2.06.94zm10 10l.94 2.06.94-2.06 2.06-.94-2.06-.94-.94-2.06-.94 2.06-2.06.94z\"/><path d=\"M17.41 7.96l-1.37-1.37c-.4-.4-.92-.59-1.43-.59-.52 0-1.04.2-1.43.59L10.3 9.45l-7.72 7.72c-.78.78-.78 2.05 0 2.83L4 21.41c.39.39.9.59 1.41.59.51 0 1.02-.2 1.41-.59l7.78-7.78 2.81-2.81c.8-.78.8-2.07 0-2.86zM5.41 20L4 18.59l7.72-7.72 1.47 1.35L5.41 20z\"/>\n",
              "  </svg>\n",
              "      </button>\n",
              "      \n",
              "  <style>\n",
              "    .colab-df-container {\n",
              "      display:flex;\n",
              "      flex-wrap:wrap;\n",
              "      gap: 12px;\n",
              "    }\n",
              "\n",
              "    .colab-df-convert {\n",
              "      background-color: #E8F0FE;\n",
              "      border: none;\n",
              "      border-radius: 50%;\n",
              "      cursor: pointer;\n",
              "      display: none;\n",
              "      fill: #1967D2;\n",
              "      height: 32px;\n",
              "      padding: 0 0 0 0;\n",
              "      width: 32px;\n",
              "    }\n",
              "\n",
              "    .colab-df-convert:hover {\n",
              "      background-color: #E2EBFA;\n",
              "      box-shadow: 0px 1px 2px rgba(60, 64, 67, 0.3), 0px 1px 3px 1px rgba(60, 64, 67, 0.15);\n",
              "      fill: #174EA6;\n",
              "    }\n",
              "\n",
              "    [theme=dark] .colab-df-convert {\n",
              "      background-color: #3B4455;\n",
              "      fill: #D2E3FC;\n",
              "    }\n",
              "\n",
              "    [theme=dark] .colab-df-convert:hover {\n",
              "      background-color: #434B5C;\n",
              "      box-shadow: 0px 1px 3px 1px rgba(0, 0, 0, 0.15);\n",
              "      filter: drop-shadow(0px 1px 2px rgba(0, 0, 0, 0.3));\n",
              "      fill: #FFFFFF;\n",
              "    }\n",
              "  </style>\n",
              "\n",
              "      <script>\n",
              "        const buttonEl =\n",
              "          document.querySelector('#df-aa89e4a1-ab4f-4cf7-bce9-34039894782f button.colab-df-convert');\n",
              "        buttonEl.style.display =\n",
              "          google.colab.kernel.accessAllowed ? 'block' : 'none';\n",
              "\n",
              "        async function convertToInteractive(key) {\n",
              "          const element = document.querySelector('#df-aa89e4a1-ab4f-4cf7-bce9-34039894782f');\n",
              "          const dataTable =\n",
              "            await google.colab.kernel.invokeFunction('convertToInteractive',\n",
              "                                                     [key], {});\n",
              "          if (!dataTable) return;\n",
              "\n",
              "          const docLinkHtml = 'Like what you see? Visit the ' +\n",
              "            '<a target=\"_blank\" href=https://colab.research.google.com/notebooks/data_table.ipynb>data table notebook</a>'\n",
              "            + ' to learn more about interactive tables.';\n",
              "          element.innerHTML = '';\n",
              "          dataTable['output_type'] = 'display_data';\n",
              "          await google.colab.output.renderOutput(dataTable, element);\n",
              "          const docLink = document.createElement('div');\n",
              "          docLink.innerHTML = docLinkHtml;\n",
              "          element.appendChild(docLink);\n",
              "        }\n",
              "      </script>\n",
              "    </div>\n",
              "  </div>\n",
              "  "
            ]
          },
          "metadata": {},
          "execution_count": 9
        }
      ],
      "source": [
        "dosan.tail()"
      ]
    },
    {
      "cell_type": "markdown",
      "metadata": {
        "id": "VEhwEr-t8bUv"
      },
      "source": [
        "다음과 같이 `2017`을 같이 넘겨주면, 해당 시점 이후의 주식 데이터를 가져옵니다."
      ]
    },
    {
      "cell_type": "markdown",
      "metadata": {
        "id": "RDA4KZqA8bUw"
      },
      "source": [
        "**시작**과 **끝** 날짜를 지정하여 범위 데이터를 가져올 수 있습니다."
      ]
    },
    {
      "cell_type": "code",
      "execution_count": 11,
      "metadata": {
        "id": "rwNzRk9S8bUw"
      },
      "outputs": [],
      "source": [
        "# Ford(F), 1980-01-01 ~ 2019-12-30 (40년 데이터)\n",
        "ford = fdr.DataReader('F', '1980-01-01', '2019-12-30')"
      ]
    },
    {
      "cell_type": "markdown",
      "metadata": {
        "id": "WZy8n5wy8bUx"
      },
      "source": [
        "그 밖에 **금, 은과 같은 현물**, **달러와 같은 화폐** 데이터도 가져올 수 있습니다."
      ]
    },
    {
      "cell_type": "markdown",
      "metadata": {
        "id": "YWiG4J3F8bUx"
      },
      "source": [
        "**두산에너빌리티**의 주가데이터를 가져와서 예측"
      ]
    },
    {
      "cell_type": "code",
      "execution_count": 10,
      "metadata": {
        "id": "WQR8Q7wI8bUx"
      },
      "outputs": [],
      "source": [
        "# 두산에너빌리티 주식코드: 034020\n",
        "STOCK_CODE = '034020'"
      ]
    },
    {
      "cell_type": "code",
      "execution_count": 12,
      "metadata": {
        "id": "u1sCtxvc8bUx"
      },
      "outputs": [],
      "source": [
        "stock = fdr.DataReader(STOCK_CODE)"
      ]
    },
    {
      "cell_type": "code",
      "execution_count": 13,
      "metadata": {
        "id": "AKQgf-JO8bUx",
        "outputId": "801fdc39-a6df-4ad4-90ed-0fbdbce2d19c",
        "colab": {
          "base_uri": "https://localhost:8080/",
          "height": 238
        }
      },
      "outputs": [
        {
          "output_type": "execute_result",
          "data": {
            "text/plain": [
              "            Open  High   Low  Close   Volume    Change\n",
              "Date                                                  \n",
              "2000-10-25  3976  4474  3824   3833  7139513       NaN\n",
              "2000-10-26  3755  3770  3257   3283  4280466 -0.143491\n",
              "2000-10-27  3327  3468  3250   3286  3143226  0.000914\n",
              "2000-10-30  3289  3475  3289   3309  1700566  0.006999\n",
              "2000-10-31  3280  3303  3097   3213  1430373 -0.029012"
            ],
            "text/html": [
              "\n",
              "  <div id=\"df-9ac9e101-8adb-48e4-8595-f25abaf3c7a8\">\n",
              "    <div class=\"colab-df-container\">\n",
              "      <div>\n",
              "<style scoped>\n",
              "    .dataframe tbody tr th:only-of-type {\n",
              "        vertical-align: middle;\n",
              "    }\n",
              "\n",
              "    .dataframe tbody tr th {\n",
              "        vertical-align: top;\n",
              "    }\n",
              "\n",
              "    .dataframe thead th {\n",
              "        text-align: right;\n",
              "    }\n",
              "</style>\n",
              "<table border=\"1\" class=\"dataframe\">\n",
              "  <thead>\n",
              "    <tr style=\"text-align: right;\">\n",
              "      <th></th>\n",
              "      <th>Open</th>\n",
              "      <th>High</th>\n",
              "      <th>Low</th>\n",
              "      <th>Close</th>\n",
              "      <th>Volume</th>\n",
              "      <th>Change</th>\n",
              "    </tr>\n",
              "    <tr>\n",
              "      <th>Date</th>\n",
              "      <th></th>\n",
              "      <th></th>\n",
              "      <th></th>\n",
              "      <th></th>\n",
              "      <th></th>\n",
              "      <th></th>\n",
              "    </tr>\n",
              "  </thead>\n",
              "  <tbody>\n",
              "    <tr>\n",
              "      <th>2000-10-25</th>\n",
              "      <td>3976</td>\n",
              "      <td>4474</td>\n",
              "      <td>3824</td>\n",
              "      <td>3833</td>\n",
              "      <td>7139513</td>\n",
              "      <td>NaN</td>\n",
              "    </tr>\n",
              "    <tr>\n",
              "      <th>2000-10-26</th>\n",
              "      <td>3755</td>\n",
              "      <td>3770</td>\n",
              "      <td>3257</td>\n",
              "      <td>3283</td>\n",
              "      <td>4280466</td>\n",
              "      <td>-0.143491</td>\n",
              "    </tr>\n",
              "    <tr>\n",
              "      <th>2000-10-27</th>\n",
              "      <td>3327</td>\n",
              "      <td>3468</td>\n",
              "      <td>3250</td>\n",
              "      <td>3286</td>\n",
              "      <td>3143226</td>\n",
              "      <td>0.000914</td>\n",
              "    </tr>\n",
              "    <tr>\n",
              "      <th>2000-10-30</th>\n",
              "      <td>3289</td>\n",
              "      <td>3475</td>\n",
              "      <td>3289</td>\n",
              "      <td>3309</td>\n",
              "      <td>1700566</td>\n",
              "      <td>0.006999</td>\n",
              "    </tr>\n",
              "    <tr>\n",
              "      <th>2000-10-31</th>\n",
              "      <td>3280</td>\n",
              "      <td>3303</td>\n",
              "      <td>3097</td>\n",
              "      <td>3213</td>\n",
              "      <td>1430373</td>\n",
              "      <td>-0.029012</td>\n",
              "    </tr>\n",
              "  </tbody>\n",
              "</table>\n",
              "</div>\n",
              "      <button class=\"colab-df-convert\" onclick=\"convertToInteractive('df-9ac9e101-8adb-48e4-8595-f25abaf3c7a8')\"\n",
              "              title=\"Convert this dataframe to an interactive table.\"\n",
              "              style=\"display:none;\">\n",
              "        \n",
              "  <svg xmlns=\"http://www.w3.org/2000/svg\" height=\"24px\"viewBox=\"0 0 24 24\"\n",
              "       width=\"24px\">\n",
              "    <path d=\"M0 0h24v24H0V0z\" fill=\"none\"/>\n",
              "    <path d=\"M18.56 5.44l.94 2.06.94-2.06 2.06-.94-2.06-.94-.94-2.06-.94 2.06-2.06.94zm-11 1L8.5 8.5l.94-2.06 2.06-.94-2.06-.94L8.5 2.5l-.94 2.06-2.06.94zm10 10l.94 2.06.94-2.06 2.06-.94-2.06-.94-.94-2.06-.94 2.06-2.06.94z\"/><path d=\"M17.41 7.96l-1.37-1.37c-.4-.4-.92-.59-1.43-.59-.52 0-1.04.2-1.43.59L10.3 9.45l-7.72 7.72c-.78.78-.78 2.05 0 2.83L4 21.41c.39.39.9.59 1.41.59.51 0 1.02-.2 1.41-.59l7.78-7.78 2.81-2.81c.8-.78.8-2.07 0-2.86zM5.41 20L4 18.59l7.72-7.72 1.47 1.35L5.41 20z\"/>\n",
              "  </svg>\n",
              "      </button>\n",
              "      \n",
              "  <style>\n",
              "    .colab-df-container {\n",
              "      display:flex;\n",
              "      flex-wrap:wrap;\n",
              "      gap: 12px;\n",
              "    }\n",
              "\n",
              "    .colab-df-convert {\n",
              "      background-color: #E8F0FE;\n",
              "      border: none;\n",
              "      border-radius: 50%;\n",
              "      cursor: pointer;\n",
              "      display: none;\n",
              "      fill: #1967D2;\n",
              "      height: 32px;\n",
              "      padding: 0 0 0 0;\n",
              "      width: 32px;\n",
              "    }\n",
              "\n",
              "    .colab-df-convert:hover {\n",
              "      background-color: #E2EBFA;\n",
              "      box-shadow: 0px 1px 2px rgba(60, 64, 67, 0.3), 0px 1px 3px 1px rgba(60, 64, 67, 0.15);\n",
              "      fill: #174EA6;\n",
              "    }\n",
              "\n",
              "    [theme=dark] .colab-df-convert {\n",
              "      background-color: #3B4455;\n",
              "      fill: #D2E3FC;\n",
              "    }\n",
              "\n",
              "    [theme=dark] .colab-df-convert:hover {\n",
              "      background-color: #434B5C;\n",
              "      box-shadow: 0px 1px 3px 1px rgba(0, 0, 0, 0.15);\n",
              "      filter: drop-shadow(0px 1px 2px rgba(0, 0, 0, 0.3));\n",
              "      fill: #FFFFFF;\n",
              "    }\n",
              "  </style>\n",
              "\n",
              "      <script>\n",
              "        const buttonEl =\n",
              "          document.querySelector('#df-9ac9e101-8adb-48e4-8595-f25abaf3c7a8 button.colab-df-convert');\n",
              "        buttonEl.style.display =\n",
              "          google.colab.kernel.accessAllowed ? 'block' : 'none';\n",
              "\n",
              "        async function convertToInteractive(key) {\n",
              "          const element = document.querySelector('#df-9ac9e101-8adb-48e4-8595-f25abaf3c7a8');\n",
              "          const dataTable =\n",
              "            await google.colab.kernel.invokeFunction('convertToInteractive',\n",
              "                                                     [key], {});\n",
              "          if (!dataTable) return;\n",
              "\n",
              "          const docLinkHtml = 'Like what you see? Visit the ' +\n",
              "            '<a target=\"_blank\" href=https://colab.research.google.com/notebooks/data_table.ipynb>data table notebook</a>'\n",
              "            + ' to learn more about interactive tables.';\n",
              "          element.innerHTML = '';\n",
              "          dataTable['output_type'] = 'display_data';\n",
              "          await google.colab.output.renderOutput(dataTable, element);\n",
              "          const docLink = document.createElement('div');\n",
              "          docLink.innerHTML = docLinkHtml;\n",
              "          element.appendChild(docLink);\n",
              "        }\n",
              "      </script>\n",
              "    </div>\n",
              "  </div>\n",
              "  "
            ]
          },
          "metadata": {},
          "execution_count": 13
        }
      ],
      "source": [
        "stock.head()"
      ]
    },
    {
      "cell_type": "code",
      "execution_count": 14,
      "metadata": {
        "id": "fyrLPOtY8bUx",
        "outputId": "294c37f4-386b-4506-db66-b8c6db221333",
        "colab": {
          "base_uri": "https://localhost:8080/",
          "height": 238
        }
      },
      "outputs": [
        {
          "output_type": "execute_result",
          "data": {
            "text/plain": [
              "             Open   High    Low  Close   Volume    Change\n",
              "Date                                                     \n",
              "2022-07-05  18350  18700  17850  18400  5072898  0.002725\n",
              "2022-07-06  18600  18800  17400  17450  6581996 -0.051630\n",
              "2022-07-07  18100  18850  17800  18700  7893062  0.071633\n",
              "2022-07-08  19100  19100  18400  18550  4196993 -0.008021\n",
              "2022-07-11  18650  18700  18100  18350  2737340 -0.010782"
            ],
            "text/html": [
              "\n",
              "  <div id=\"df-4ce7f98c-f948-4931-96c5-7852c31aaa60\">\n",
              "    <div class=\"colab-df-container\">\n",
              "      <div>\n",
              "<style scoped>\n",
              "    .dataframe tbody tr th:only-of-type {\n",
              "        vertical-align: middle;\n",
              "    }\n",
              "\n",
              "    .dataframe tbody tr th {\n",
              "        vertical-align: top;\n",
              "    }\n",
              "\n",
              "    .dataframe thead th {\n",
              "        text-align: right;\n",
              "    }\n",
              "</style>\n",
              "<table border=\"1\" class=\"dataframe\">\n",
              "  <thead>\n",
              "    <tr style=\"text-align: right;\">\n",
              "      <th></th>\n",
              "      <th>Open</th>\n",
              "      <th>High</th>\n",
              "      <th>Low</th>\n",
              "      <th>Close</th>\n",
              "      <th>Volume</th>\n",
              "      <th>Change</th>\n",
              "    </tr>\n",
              "    <tr>\n",
              "      <th>Date</th>\n",
              "      <th></th>\n",
              "      <th></th>\n",
              "      <th></th>\n",
              "      <th></th>\n",
              "      <th></th>\n",
              "      <th></th>\n",
              "    </tr>\n",
              "  </thead>\n",
              "  <tbody>\n",
              "    <tr>\n",
              "      <th>2022-07-05</th>\n",
              "      <td>18350</td>\n",
              "      <td>18700</td>\n",
              "      <td>17850</td>\n",
              "      <td>18400</td>\n",
              "      <td>5072898</td>\n",
              "      <td>0.002725</td>\n",
              "    </tr>\n",
              "    <tr>\n",
              "      <th>2022-07-06</th>\n",
              "      <td>18600</td>\n",
              "      <td>18800</td>\n",
              "      <td>17400</td>\n",
              "      <td>17450</td>\n",
              "      <td>6581996</td>\n",
              "      <td>-0.051630</td>\n",
              "    </tr>\n",
              "    <tr>\n",
              "      <th>2022-07-07</th>\n",
              "      <td>18100</td>\n",
              "      <td>18850</td>\n",
              "      <td>17800</td>\n",
              "      <td>18700</td>\n",
              "      <td>7893062</td>\n",
              "      <td>0.071633</td>\n",
              "    </tr>\n",
              "    <tr>\n",
              "      <th>2022-07-08</th>\n",
              "      <td>19100</td>\n",
              "      <td>19100</td>\n",
              "      <td>18400</td>\n",
              "      <td>18550</td>\n",
              "      <td>4196993</td>\n",
              "      <td>-0.008021</td>\n",
              "    </tr>\n",
              "    <tr>\n",
              "      <th>2022-07-11</th>\n",
              "      <td>18650</td>\n",
              "      <td>18700</td>\n",
              "      <td>18100</td>\n",
              "      <td>18350</td>\n",
              "      <td>2737340</td>\n",
              "      <td>-0.010782</td>\n",
              "    </tr>\n",
              "  </tbody>\n",
              "</table>\n",
              "</div>\n",
              "      <button class=\"colab-df-convert\" onclick=\"convertToInteractive('df-4ce7f98c-f948-4931-96c5-7852c31aaa60')\"\n",
              "              title=\"Convert this dataframe to an interactive table.\"\n",
              "              style=\"display:none;\">\n",
              "        \n",
              "  <svg xmlns=\"http://www.w3.org/2000/svg\" height=\"24px\"viewBox=\"0 0 24 24\"\n",
              "       width=\"24px\">\n",
              "    <path d=\"M0 0h24v24H0V0z\" fill=\"none\"/>\n",
              "    <path d=\"M18.56 5.44l.94 2.06.94-2.06 2.06-.94-2.06-.94-.94-2.06-.94 2.06-2.06.94zm-11 1L8.5 8.5l.94-2.06 2.06-.94-2.06-.94L8.5 2.5l-.94 2.06-2.06.94zm10 10l.94 2.06.94-2.06 2.06-.94-2.06-.94-.94-2.06-.94 2.06-2.06.94z\"/><path d=\"M17.41 7.96l-1.37-1.37c-.4-.4-.92-.59-1.43-.59-.52 0-1.04.2-1.43.59L10.3 9.45l-7.72 7.72c-.78.78-.78 2.05 0 2.83L4 21.41c.39.39.9.59 1.41.59.51 0 1.02-.2 1.41-.59l7.78-7.78 2.81-2.81c.8-.78.8-2.07 0-2.86zM5.41 20L4 18.59l7.72-7.72 1.47 1.35L5.41 20z\"/>\n",
              "  </svg>\n",
              "      </button>\n",
              "      \n",
              "  <style>\n",
              "    .colab-df-container {\n",
              "      display:flex;\n",
              "      flex-wrap:wrap;\n",
              "      gap: 12px;\n",
              "    }\n",
              "\n",
              "    .colab-df-convert {\n",
              "      background-color: #E8F0FE;\n",
              "      border: none;\n",
              "      border-radius: 50%;\n",
              "      cursor: pointer;\n",
              "      display: none;\n",
              "      fill: #1967D2;\n",
              "      height: 32px;\n",
              "      padding: 0 0 0 0;\n",
              "      width: 32px;\n",
              "    }\n",
              "\n",
              "    .colab-df-convert:hover {\n",
              "      background-color: #E2EBFA;\n",
              "      box-shadow: 0px 1px 2px rgba(60, 64, 67, 0.3), 0px 1px 3px 1px rgba(60, 64, 67, 0.15);\n",
              "      fill: #174EA6;\n",
              "    }\n",
              "\n",
              "    [theme=dark] .colab-df-convert {\n",
              "      background-color: #3B4455;\n",
              "      fill: #D2E3FC;\n",
              "    }\n",
              "\n",
              "    [theme=dark] .colab-df-convert:hover {\n",
              "      background-color: #434B5C;\n",
              "      box-shadow: 0px 1px 3px 1px rgba(0, 0, 0, 0.15);\n",
              "      filter: drop-shadow(0px 1px 2px rgba(0, 0, 0, 0.3));\n",
              "      fill: #FFFFFF;\n",
              "    }\n",
              "  </style>\n",
              "\n",
              "      <script>\n",
              "        const buttonEl =\n",
              "          document.querySelector('#df-4ce7f98c-f948-4931-96c5-7852c31aaa60 button.colab-df-convert');\n",
              "        buttonEl.style.display =\n",
              "          google.colab.kernel.accessAllowed ? 'block' : 'none';\n",
              "\n",
              "        async function convertToInteractive(key) {\n",
              "          const element = document.querySelector('#df-4ce7f98c-f948-4931-96c5-7852c31aaa60');\n",
              "          const dataTable =\n",
              "            await google.colab.kernel.invokeFunction('convertToInteractive',\n",
              "                                                     [key], {});\n",
              "          if (!dataTable) return;\n",
              "\n",
              "          const docLinkHtml = 'Like what you see? Visit the ' +\n",
              "            '<a target=\"_blank\" href=https://colab.research.google.com/notebooks/data_table.ipynb>data table notebook</a>'\n",
              "            + ' to learn more about interactive tables.';\n",
              "          element.innerHTML = '';\n",
              "          dataTable['output_type'] = 'display_data';\n",
              "          await google.colab.output.renderOutput(dataTable, element);\n",
              "          const docLink = document.createElement('div');\n",
              "          docLink.innerHTML = docLinkHtml;\n",
              "          element.appendChild(docLink);\n",
              "        }\n",
              "      </script>\n",
              "    </div>\n",
              "  </div>\n",
              "  "
            ]
          },
          "metadata": {},
          "execution_count": 14
        }
      ],
      "source": [
        "stock.tail()"
      ]
    },
    {
      "cell_type": "code",
      "execution_count": 16,
      "metadata": {
        "id": "fVOwZ9sA8bUy",
        "outputId": "8b0b488d-ac4b-45b2-ac35-6f62380f8ae9",
        "colab": {
          "base_uri": "https://localhost:8080/"
        }
      },
      "outputs": [
        {
          "output_type": "execute_result",
          "data": {
            "text/plain": [
              "DatetimeIndex(['2000-10-25', '2000-10-26', '2000-10-27', '2000-10-30',\n",
              "               '2000-10-31', '2000-11-01', '2000-11-02', '2000-11-03',\n",
              "               '2000-11-06', '2000-11-07',\n",
              "               ...\n",
              "               '2022-06-28', '2022-06-29', '2022-06-30', '2022-07-01',\n",
              "               '2022-07-04', '2022-07-05', '2022-07-06', '2022-07-07',\n",
              "               '2022-07-08', '2022-07-11'],\n",
              "              dtype='datetime64[ns]', name='Date', length=5363, freq=None)"
            ]
          },
          "metadata": {},
          "execution_count": 16
        }
      ],
      "source": [
        "stock.index"
      ]
    },
    {
      "cell_type": "markdown",
      "metadata": {
        "id": "bTgr472H8bUy"
      },
      "source": [
        "위에서 보시는 바와 같이 index가 `DatetimeIndex`로 지정되어 있습니다.\n",
        "\n",
        "`DatetimeIndex`로 정의되어 있다면, 아래와 같이 연도, 월, 일을 쪼갤 수 있으며, **월별, 연도별 피벗데이터**를 만들때 유용하게 활용할 수 있습니다."
      ]
    },
    {
      "cell_type": "code",
      "execution_count": 17,
      "metadata": {
        "id": "fif43Fh-0l4L"
      },
      "outputs": [],
      "source": [
        "stock['Year'] = stock.index.year\n",
        "stock['Month'] = stock.index.month\n",
        "stock['Day'] = stock.index.day"
      ]
    },
    {
      "cell_type": "code",
      "execution_count": 18,
      "metadata": {
        "colab": {
          "base_uri": "https://localhost:8080/",
          "height": 238
        },
        "id": "0yAKE9Ag0l4S",
        "outputId": "7cb991f9-ac8f-4e93-e364-9f7157b128fe"
      },
      "outputs": [
        {
          "output_type": "execute_result",
          "data": {
            "text/plain": [
              "            Open  High   Low  Close   Volume    Change  Year  Month  Day\n",
              "Date                                                                    \n",
              "2000-10-25  3976  4474  3824   3833  7139513       NaN  2000     10   25\n",
              "2000-10-26  3755  3770  3257   3283  4280466 -0.143491  2000     10   26\n",
              "2000-10-27  3327  3468  3250   3286  3143226  0.000914  2000     10   27\n",
              "2000-10-30  3289  3475  3289   3309  1700566  0.006999  2000     10   30\n",
              "2000-10-31  3280  3303  3097   3213  1430373 -0.029012  2000     10   31"
            ],
            "text/html": [
              "\n",
              "  <div id=\"df-d29789d0-7d4f-47db-9eba-107cfe3fd2a7\">\n",
              "    <div class=\"colab-df-container\">\n",
              "      <div>\n",
              "<style scoped>\n",
              "    .dataframe tbody tr th:only-of-type {\n",
              "        vertical-align: middle;\n",
              "    }\n",
              "\n",
              "    .dataframe tbody tr th {\n",
              "        vertical-align: top;\n",
              "    }\n",
              "\n",
              "    .dataframe thead th {\n",
              "        text-align: right;\n",
              "    }\n",
              "</style>\n",
              "<table border=\"1\" class=\"dataframe\">\n",
              "  <thead>\n",
              "    <tr style=\"text-align: right;\">\n",
              "      <th></th>\n",
              "      <th>Open</th>\n",
              "      <th>High</th>\n",
              "      <th>Low</th>\n",
              "      <th>Close</th>\n",
              "      <th>Volume</th>\n",
              "      <th>Change</th>\n",
              "      <th>Year</th>\n",
              "      <th>Month</th>\n",
              "      <th>Day</th>\n",
              "    </tr>\n",
              "    <tr>\n",
              "      <th>Date</th>\n",
              "      <th></th>\n",
              "      <th></th>\n",
              "      <th></th>\n",
              "      <th></th>\n",
              "      <th></th>\n",
              "      <th></th>\n",
              "      <th></th>\n",
              "      <th></th>\n",
              "      <th></th>\n",
              "    </tr>\n",
              "  </thead>\n",
              "  <tbody>\n",
              "    <tr>\n",
              "      <th>2000-10-25</th>\n",
              "      <td>3976</td>\n",
              "      <td>4474</td>\n",
              "      <td>3824</td>\n",
              "      <td>3833</td>\n",
              "      <td>7139513</td>\n",
              "      <td>NaN</td>\n",
              "      <td>2000</td>\n",
              "      <td>10</td>\n",
              "      <td>25</td>\n",
              "    </tr>\n",
              "    <tr>\n",
              "      <th>2000-10-26</th>\n",
              "      <td>3755</td>\n",
              "      <td>3770</td>\n",
              "      <td>3257</td>\n",
              "      <td>3283</td>\n",
              "      <td>4280466</td>\n",
              "      <td>-0.143491</td>\n",
              "      <td>2000</td>\n",
              "      <td>10</td>\n",
              "      <td>26</td>\n",
              "    </tr>\n",
              "    <tr>\n",
              "      <th>2000-10-27</th>\n",
              "      <td>3327</td>\n",
              "      <td>3468</td>\n",
              "      <td>3250</td>\n",
              "      <td>3286</td>\n",
              "      <td>3143226</td>\n",
              "      <td>0.000914</td>\n",
              "      <td>2000</td>\n",
              "      <td>10</td>\n",
              "      <td>27</td>\n",
              "    </tr>\n",
              "    <tr>\n",
              "      <th>2000-10-30</th>\n",
              "      <td>3289</td>\n",
              "      <td>3475</td>\n",
              "      <td>3289</td>\n",
              "      <td>3309</td>\n",
              "      <td>1700566</td>\n",
              "      <td>0.006999</td>\n",
              "      <td>2000</td>\n",
              "      <td>10</td>\n",
              "      <td>30</td>\n",
              "    </tr>\n",
              "    <tr>\n",
              "      <th>2000-10-31</th>\n",
              "      <td>3280</td>\n",
              "      <td>3303</td>\n",
              "      <td>3097</td>\n",
              "      <td>3213</td>\n",
              "      <td>1430373</td>\n",
              "      <td>-0.029012</td>\n",
              "      <td>2000</td>\n",
              "      <td>10</td>\n",
              "      <td>31</td>\n",
              "    </tr>\n",
              "  </tbody>\n",
              "</table>\n",
              "</div>\n",
              "      <button class=\"colab-df-convert\" onclick=\"convertToInteractive('df-d29789d0-7d4f-47db-9eba-107cfe3fd2a7')\"\n",
              "              title=\"Convert this dataframe to an interactive table.\"\n",
              "              style=\"display:none;\">\n",
              "        \n",
              "  <svg xmlns=\"http://www.w3.org/2000/svg\" height=\"24px\"viewBox=\"0 0 24 24\"\n",
              "       width=\"24px\">\n",
              "    <path d=\"M0 0h24v24H0V0z\" fill=\"none\"/>\n",
              "    <path d=\"M18.56 5.44l.94 2.06.94-2.06 2.06-.94-2.06-.94-.94-2.06-.94 2.06-2.06.94zm-11 1L8.5 8.5l.94-2.06 2.06-.94-2.06-.94L8.5 2.5l-.94 2.06-2.06.94zm10 10l.94 2.06.94-2.06 2.06-.94-2.06-.94-.94-2.06-.94 2.06-2.06.94z\"/><path d=\"M17.41 7.96l-1.37-1.37c-.4-.4-.92-.59-1.43-.59-.52 0-1.04.2-1.43.59L10.3 9.45l-7.72 7.72c-.78.78-.78 2.05 0 2.83L4 21.41c.39.39.9.59 1.41.59.51 0 1.02-.2 1.41-.59l7.78-7.78 2.81-2.81c.8-.78.8-2.07 0-2.86zM5.41 20L4 18.59l7.72-7.72 1.47 1.35L5.41 20z\"/>\n",
              "  </svg>\n",
              "      </button>\n",
              "      \n",
              "  <style>\n",
              "    .colab-df-container {\n",
              "      display:flex;\n",
              "      flex-wrap:wrap;\n",
              "      gap: 12px;\n",
              "    }\n",
              "\n",
              "    .colab-df-convert {\n",
              "      background-color: #E8F0FE;\n",
              "      border: none;\n",
              "      border-radius: 50%;\n",
              "      cursor: pointer;\n",
              "      display: none;\n",
              "      fill: #1967D2;\n",
              "      height: 32px;\n",
              "      padding: 0 0 0 0;\n",
              "      width: 32px;\n",
              "    }\n",
              "\n",
              "    .colab-df-convert:hover {\n",
              "      background-color: #E2EBFA;\n",
              "      box-shadow: 0px 1px 2px rgba(60, 64, 67, 0.3), 0px 1px 3px 1px rgba(60, 64, 67, 0.15);\n",
              "      fill: #174EA6;\n",
              "    }\n",
              "\n",
              "    [theme=dark] .colab-df-convert {\n",
              "      background-color: #3B4455;\n",
              "      fill: #D2E3FC;\n",
              "    }\n",
              "\n",
              "    [theme=dark] .colab-df-convert:hover {\n",
              "      background-color: #434B5C;\n",
              "      box-shadow: 0px 1px 3px 1px rgba(0, 0, 0, 0.15);\n",
              "      filter: drop-shadow(0px 1px 2px rgba(0, 0, 0, 0.3));\n",
              "      fill: #FFFFFF;\n",
              "    }\n",
              "  </style>\n",
              "\n",
              "      <script>\n",
              "        const buttonEl =\n",
              "          document.querySelector('#df-d29789d0-7d4f-47db-9eba-107cfe3fd2a7 button.colab-df-convert');\n",
              "        buttonEl.style.display =\n",
              "          google.colab.kernel.accessAllowed ? 'block' : 'none';\n",
              "\n",
              "        async function convertToInteractive(key) {\n",
              "          const element = document.querySelector('#df-d29789d0-7d4f-47db-9eba-107cfe3fd2a7');\n",
              "          const dataTable =\n",
              "            await google.colab.kernel.invokeFunction('convertToInteractive',\n",
              "                                                     [key], {});\n",
              "          if (!dataTable) return;\n",
              "\n",
              "          const docLinkHtml = 'Like what you see? Visit the ' +\n",
              "            '<a target=\"_blank\" href=https://colab.research.google.com/notebooks/data_table.ipynb>data table notebook</a>'\n",
              "            + ' to learn more about interactive tables.';\n",
              "          element.innerHTML = '';\n",
              "          dataTable['output_type'] = 'display_data';\n",
              "          await google.colab.output.renderOutput(dataTable, element);\n",
              "          const docLink = document.createElement('div');\n",
              "          docLink.innerHTML = docLinkHtml;\n",
              "          element.appendChild(docLink);\n",
              "        }\n",
              "      </script>\n",
              "    </div>\n",
              "  </div>\n",
              "  "
            ]
          },
          "metadata": {},
          "execution_count": 18
        }
      ],
      "source": [
        "stock.head()"
      ]
    },
    {
      "cell_type": "markdown",
      "metadata": {
        "id": "5FBTlube0l4d"
      },
      "source": [
        "## 시각화"
      ]
    },
    {
      "cell_type": "code",
      "execution_count": 19,
      "metadata": {
        "colab": {
          "base_uri": "https://localhost:8080/",
          "height": 569
        },
        "id": "MWcaWEa80l4o",
        "outputId": "e583d76a-6f07-4df7-98e5-e89621b3997b"
      },
      "outputs": [
        {
          "output_type": "execute_result",
          "data": {
            "text/plain": [
              "Text(0, 0.5, 'price')"
            ]
          },
          "metadata": {},
          "execution_count": 19
        },
        {
          "output_type": "stream",
          "name": "stderr",
          "text": [
            "findfont: Font family ['NanumGothic'] not found. Falling back to DejaVu Sans.\n"
          ]
        },
        {
          "output_type": "display_data",
          "data": {
            "text/plain": [
              "<Figure size 1152x648 with 1 Axes>"
            ],
            "image/png": "[encoded data removed]"
          },
          "metadata": {
            "needs_background": "light"
          }
        }
      ],
      "source": [
        "plt.figure(figsize=(16, 9))\n",
        "sns.lineplot(y=stock['Close'], x=stock.index)\n",
        "plt.xlabel('time')\n",
        "plt.ylabel('price')"
      ]
    },
    {
      "cell_type": "code",
      "execution_count": 41,
      "metadata": {
        "id": "bmhVqqJw8bUy",
        "outputId": "4aa5a4aa-44cf-43f8-cc50-86d097791d10",
        "colab": {
          "base_uri": "https://localhost:8080/",
          "height": 657
        }
      },
      "outputs": [
        {
          "output_type": "display_data",
          "data": {
            "text/plain": [
              "<Figure size 1152x648 with 4 Axes>"
            ],
            "image/png": "[encoded data removed]"
          },
          "metadata": {
            "needs_background": "light"
          }
        }
      ],
      "source": [
        "time_steps = [['1990', '2000'], # 특정기간을 설정하여 subplot 표현\n",
        "              ['2000', '2010'], \n",
        "              ['2010', '2015'], \n",
        "              ['2015', '2020']]\n",
        "\n",
        "fig, axes = plt.subplots(2, 2)\n",
        "fig.set_size_inches(16, 9)\n",
        "for i in range(4):\n",
        "    ax = axes[i//2, i%2]\n",
        "    df = stock.loc[(stock.index > time_steps[i][0]) & (stock.index < time_steps[i][1])]\n",
        "    sns.lineplot(y=df['Close'], x=df.index, ax=ax) # 선형플롯\n",
        "    ax.set_title(f'{time_steps[i][0]}~{time_steps[i][1]}')\n",
        "    ax.set_xlabel('time')\n",
        "    ax.set_ylabel('price')\n",
        "plt.tight_layout()\n",
        "plt.show()"
      ]
    },
    {
      "cell_type": "markdown",
      "metadata": {
        "id": "Fz7k20jh8bUz"
      },
      "source": [
        "## 데이터 전처리"
      ]
    },
    {
      "cell_type": "markdown",
      "metadata": {
        "id": "ufa3Y0xx8bUz"
      },
      "source": [
        "주가 데이터에 대하여 딥러닝 모델이 더 잘 학습할 수 있도록 **정규화(Normalization)**를 해주도록 하겠습니다.\n",
        "\n",
        "**표준화 (Standardization)**와 **정규화(Normalization)**에 대한 내용은 아래 링크에서 더 자세히 다루니, 참고해 보시기 바랍니다.\n",
        "\n",
        "- [데이터 전처리에 관하여](https://teddylee777.github.io/scikit-learn/scikit-learn-preprocessing)"
      ]
    },
    {
      "cell_type": "code",
      "execution_count": 21,
      "metadata": {
        "id": "4-4PgRMZ0l5Q",
        "outputId": "4c4abca0-2dce-427c-fd17-cd2dff062461",
        "colab": {
          "base_uri": "https://localhost:8080/"
        }
      },
      "outputs": [
        {
          "output_type": "execute_result",
          "data": {
            "text/plain": [
              "array([[0.01352501, 0.01534889, 0.01302351, 0.01192195, 0.07711252],\n",
              "       [0.01190406, 0.0104683 , 0.00868234, 0.00793104, 0.04616138],\n",
              "       [0.00876485, 0.00837464, 0.00862874, 0.00795281, 0.03384998],\n",
              "       ...,\n",
              "       [0.11711897, 0.11501265, 0.12002909, 0.11980002, 0.0852702 ],\n",
              "       [0.12445357, 0.11674581, 0.12462292, 0.11871159, 0.04525772],\n",
              "       [0.121153  , 0.11397275, 0.12232601, 0.11726035, 0.02945598]])"
            ]
          },
          "metadata": {},
          "execution_count": 21
        }
      ],
      "source": [
        "from sklearn.preprocessing import MinMaxScaler\n",
        "\n",
        "scaler = MinMaxScaler() # MinMaxScaler 인스턴스화\n",
        "\n",
        "# 스케일을 적용할 column을 정의합니다.\n",
        "scale_cols = ['Open', 'High', 'Low', 'Close', 'Volume']\n",
        "\n",
        "# 스케일 후 columns\n",
        "scaled = scaler.fit_transform(stock[scale_cols])\n",
        "scaled"
      ]
    },
    {
      "cell_type": "markdown",
      "metadata": {
        "id": "DiY_n3uZ8bUz"
      },
      "source": [
        "스케일이 완료된 column으로 새로운 데이터프레임을 생성합니다.\n",
        "\n",
        "**시간 순으로 정렬**되어 있으며, datetime index는 제외\n",
        "\n",
        "*6,000개의 row, 5개 column*으로 이루어진 데이터셋이 DataFrame으로 정리되었습니다."
      ]
    },
    {
      "cell_type": "code",
      "execution_count": 22,
      "metadata": {
        "id": "dIJjE21B0l5m",
        "colab": {
          "base_uri": "https://localhost:8080/"
        },
        "outputId": "6ed3846c-41cc-4810-e9be-a017d57efc67"
      },
      "outputs": [
        {
          "output_type": "stream",
          "name": "stdout",
          "text": [
            "<class 'pandas.core.frame.DataFrame'>\n",
            "RangeIndex: 5363 entries, 0 to 5362\n",
            "Data columns (total 5 columns):\n",
            " #   Column  Non-Null Count  Dtype  \n",
            "---  ------  --------------  -----  \n",
            " 0   Open    5363 non-null   float64\n",
            " 1   High    5363 non-null   float64\n",
            " 2   Low     5363 non-null   float64\n",
            " 3   Close   5363 non-null   float64\n",
            " 4   Volume  5363 non-null   float64\n",
            "dtypes: float64(5)\n",
            "memory usage: 209.6 KB\n"
          ]
        }
      ],
      "source": [
        "df = pd.DataFrame(scaled, columns=scale_cols)\n",
        "df.info()"
      ]
    },
    {
      "cell_type": "markdown",
      "metadata": {
        "id": "2tn-HRL98bUz"
      },
      "source": [
        "## train / test 분할"
      ]
    },
    {
      "cell_type": "code",
      "execution_count": 23,
      "metadata": {
        "id": "vo--zFeu8bUz"
      },
      "outputs": [],
      "source": [
        "from sklearn.model_selection import train_test_split"
      ]
    },
    {
      "cell_type": "code",
      "execution_count": 24,
      "metadata": {
        "id": "KVlPZmfS8bUz"
      },
      "outputs": [],
      "source": [
        "x_train, x_test, y_train, y_test = train_test_split(df.drop('Close', 1), df['Close'], test_size=0.2, random_state=0, shuffle=False)"
      ]
    },
    {
      "cell_type": "code",
      "execution_count": 25,
      "metadata": {
        "id": "r2xqgJS78bUz",
        "outputId": "dc97af60-6d36-4acc-ed6c-0e99b76f7ab0",
        "colab": {
          "base_uri": "https://localhost:8080/"
        }
      },
      "outputs": [
        {
          "output_type": "execute_result",
          "data": {
            "text/plain": [
              "((4290, 4), (4290,))"
            ]
          },
          "metadata": {},
          "execution_count": 25
        }
      ],
      "source": [
        "x_train.shape, y_train.shape"
      ]
    },
    {
      "cell_type": "code",
      "execution_count": 26,
      "metadata": {
        "id": "h6Co6zHg8bU0",
        "outputId": "24ea1a33-47fb-4107-f410-77a83e7fef49",
        "colab": {
          "base_uri": "https://localhost:8080/"
        }
      },
      "outputs": [
        {
          "output_type": "execute_result",
          "data": {
            "text/plain": [
              "((1073, 4), (1073,))"
            ]
          },
          "metadata": {},
          "execution_count": 26
        }
      ],
      "source": [
        "x_test.shape, y_test.shape"
      ]
    },
    {
      "cell_type": "code",
      "execution_count": 27,
      "metadata": {
        "id": "jnhrPUQa8bU0",
        "outputId": "8abaa76f-a307-4eb7-f888-185c734dc127",
        "colab": {
          "base_uri": "https://localhost:8080/",
          "height": 424
        }
      },
      "outputs": [
        {
          "output_type": "execute_result",
          "data": {
            "text/plain": [
              "          Open      High       Low    Volume\n",
              "0     0.013525  0.015349  0.013024  0.077113\n",
              "1     0.011904  0.010468  0.008682  0.046161\n",
              "2     0.008765  0.008375  0.008629  0.033850\n",
              "3     0.008486  0.008423  0.008927  0.018232\n",
              "4     0.008420  0.007231  0.007457  0.015307\n",
              "...        ...       ...       ...       ...\n",
              "4285  0.068806  0.064675  0.070722  0.004875\n",
              "4286  0.070486  0.066006  0.072184  0.003953\n",
              "4287  0.070486  0.066262  0.072483  0.003142\n",
              "4288  0.068520  0.065208  0.070423  0.005406\n",
              "4289  0.067126  0.063351  0.069252  0.004427\n",
              "\n",
              "[4290 rows x 4 columns]"
            ],
            "text/html": [
              "\n",
              "  <div id=\"df-24171c6f-002d-425b-9e34-89c6dd676983\">\n",
              "    <div class=\"colab-df-container\">\n",
              "      <div>\n",
              "<style scoped>\n",
              "    .dataframe tbody tr th:only-of-type {\n",
              "        vertical-align: middle;\n",
              "    }\n",
              "\n",
              "    .dataframe tbody tr th {\n",
              "        vertical-align: top;\n",
              "    }\n",
              "\n",
              "    .dataframe thead th {\n",
              "        text-align: right;\n",
              "    }\n",
              "</style>\n",
              "<table border=\"1\" class=\"dataframe\">\n",
              "  <thead>\n",
              "    <tr style=\"text-align: right;\">\n",
              "      <th></th>\n",
              "      <th>Open</th>\n",
              "      <th>High</th>\n",
              "      <th>Low</th>\n",
              "      <th>Volume</th>\n",
              "    </tr>\n",
              "  </thead>\n",
              "  <tbody>\n",
              "    <tr>\n",
              "      <th>0</th>\n",
              "      <td>0.013525</td>\n",
              "      <td>0.015349</td>\n",
              "      <td>0.013024</td>\n",
              "      <td>0.077113</td>\n",
              "    </tr>\n",
              "    <tr>\n",
              "      <th>1</th>\n",
              "      <td>0.011904</td>\n",
              "      <td>0.010468</td>\n",
              "      <td>0.008682</td>\n",
              "      <td>0.046161</td>\n",
              "    </tr>\n",
              "    <tr>\n",
              "      <th>2</th>\n",
              "      <td>0.008765</td>\n",
              "      <td>0.008375</td>\n",
              "      <td>0.008629</td>\n",
              "      <td>0.033850</td>\n",
              "    </tr>\n",
              "    <tr>\n",
              "      <th>3</th>\n",
              "      <td>0.008486</td>\n",
              "      <td>0.008423</td>\n",
              "      <td>0.008927</td>\n",
              "      <td>0.018232</td>\n",
              "    </tr>\n",
              "    <tr>\n",
              "      <th>4</th>\n",
              "      <td>0.008420</td>\n",
              "      <td>0.007231</td>\n",
              "      <td>0.007457</td>\n",
              "      <td>0.015307</td>\n",
              "    </tr>\n",
              "    <tr>\n",
              "      <th>...</th>\n",
              "      <td>...</td>\n",
              "      <td>...</td>\n",
              "      <td>...</td>\n",
              "      <td>...</td>\n",
              "    </tr>\n",
              "    <tr>\n",
              "      <th>4285</th>\n",
              "      <td>0.068806</td>\n",
              "      <td>0.064675</td>\n",
              "      <td>0.070722</td>\n",
              "      <td>0.004875</td>\n",
              "    </tr>\n",
              "    <tr>\n",
              "      <th>4286</th>\n",
              "      <td>0.070486</td>\n",
              "      <td>0.066006</td>\n",
              "      <td>0.072184</td>\n",
              "      <td>0.003953</td>\n",
              "    </tr>\n",
              "    <tr>\n",
              "      <th>4287</th>\n",
              "      <td>0.070486</td>\n",
              "      <td>0.066262</td>\n",
              "      <td>0.072483</td>\n",
              "      <td>0.003142</td>\n",
              "    </tr>\n",
              "    <tr>\n",
              "      <th>4288</th>\n",
              "      <td>0.068520</td>\n",
              "      <td>0.065208</td>\n",
              "      <td>0.070423</td>\n",
              "      <td>0.005406</td>\n",
              "    </tr>\n",
              "    <tr>\n",
              "      <th>4289</th>\n",
              "      <td>0.067126</td>\n",
              "      <td>0.063351</td>\n",
              "      <td>0.069252</td>\n",
              "      <td>0.004427</td>\n",
              "    </tr>\n",
              "  </tbody>\n",
              "</table>\n",
              "<p>4290 rows × 4 columns</p>\n",
              "</div>\n",
              "      <button class=\"colab-df-convert\" onclick=\"convertToInteractive('df-24171c6f-002d-425b-9e34-89c6dd676983')\"\n",
              "              title=\"Convert this dataframe to an interactive table.\"\n",
              "              style=\"display:none;\">\n",
              "        \n",
              "  <svg xmlns=\"http://www.w3.org/2000/svg\" height=\"24px\"viewBox=\"0 0 24 24\"\n",
              "       width=\"24px\">\n",
              "    <path d=\"M0 0h24v24H0V0z\" fill=\"none\"/>\n",
              "    <path d=\"M18.56 5.44l.94 2.06.94-2.06 2.06-.94-2.06-.94-.94-2.06-.94 2.06-2.06.94zm-11 1L8.5 8.5l.94-2.06 2.06-.94-2.06-.94L8.5 2.5l-.94 2.06-2.06.94zm10 10l.94 2.06.94-2.06 2.06-.94-2.06-.94-.94-2.06-.94 2.06-2.06.94z\"/><path d=\"M17.41 7.96l-1.37-1.37c-.4-.4-.92-.59-1.43-.59-.52 0-1.04.2-1.43.59L10.3 9.45l-7.72 7.72c-.78.78-.78 2.05 0 2.83L4 21.41c.39.39.9.59 1.41.59.51 0 1.02-.2 1.41-.59l7.78-7.78 2.81-2.81c.8-.78.8-2.07 0-2.86zM5.41 20L4 18.59l7.72-7.72 1.47 1.35L5.41 20z\"/>\n",
              "  </svg>\n",
              "      </button>\n",
              "      \n",
              "  <style>\n",
              "    .colab-df-container {\n",
              "      display:flex;\n",
              "      flex-wrap:wrap;\n",
              "      gap: 12px;\n",
              "    }\n",
              "\n",
              "    .colab-df-convert {\n",
              "      background-color: #E8F0FE;\n",
              "      border: none;\n",
              "      border-radius: 50%;\n",
              "      cursor: pointer;\n",
              "      display: none;\n",
              "      fill: #1967D2;\n",
              "      height: 32px;\n",
              "      padding: 0 0 0 0;\n",
              "      width: 32px;\n",
              "    }\n",
              "\n",
              "    .colab-df-convert:hover {\n",
              "      background-color: #E2EBFA;\n",
              "      box-shadow: 0px 1px 2px rgba(60, 64, 67, 0.3), 0px 1px 3px 1px rgba(60, 64, 67, 0.15);\n",
              "      fill: #174EA6;\n",
              "    }\n",
              "\n",
              "    [theme=dark] .colab-df-convert {\n",
              "      background-color: #3B4455;\n",
              "      fill: #D2E3FC;\n",
              "    }\n",
              "\n",
              "    [theme=dark] .colab-df-convert:hover {\n",
              "      background-color: #434B5C;\n",
              "      box-shadow: 0px 1px 3px 1px rgba(0, 0, 0, 0.15);\n",
              "      filter: drop-shadow(0px 1px 2px rgba(0, 0, 0, 0.3));\n",
              "      fill: #FFFFFF;\n",
              "    }\n",
              "  </style>\n",
              "\n",
              "      <script>\n",
              "        const buttonEl =\n",
              "          document.querySelector('#df-24171c6f-002d-425b-9e34-89c6dd676983 button.colab-df-convert');\n",
              "        buttonEl.style.display =\n",
              "          google.colab.kernel.accessAllowed ? 'block' : 'none';\n",
              "\n",
              "        async function convertToInteractive(key) {\n",
              "          const element = document.querySelector('#df-24171c6f-002d-425b-9e34-89c6dd676983');\n",
              "          const dataTable =\n",
              "            await google.colab.kernel.invokeFunction('convertToInteractive',\n",
              "                                                     [key], {});\n",
              "          if (!dataTable) return;\n",
              "\n",
              "          const docLinkHtml = 'Like what you see? Visit the ' +\n",
              "            '<a target=\"_blank\" href=https://colab.research.google.com/notebooks/data_table.ipynb>data table notebook</a>'\n",
              "            + ' to learn more about interactive tables.';\n",
              "          element.innerHTML = '';\n",
              "          dataTable['output_type'] = 'display_data';\n",
              "          await google.colab.output.renderOutput(dataTable, element);\n",
              "          const docLink = document.createElement('div');\n",
              "          docLink.innerHTML = docLinkHtml;\n",
              "          element.appendChild(docLink);\n",
              "        }\n",
              "      </script>\n",
              "    </div>\n",
              "  </div>\n",
              "  "
            ]
          },
          "metadata": {},
          "execution_count": 27
        }
      ],
      "source": [
        "x_train"
      ]
    },
    {
      "cell_type": "markdown",
      "metadata": {
        "id": "iLCpf4Uf8bU0"
      },
      "source": [
        "## TensroFlow Dataset을 활용한 시퀀스 데이터셋 구성"
      ]
    },
    {
      "cell_type": "code",
      "execution_count": 28,
      "metadata": {
        "id": "vaeaq5mK8bU0"
      },
      "outputs": [],
      "source": [
        "import tensorflow as tf"
      ]
    },
    {
      "cell_type": "code",
      "execution_count": 29,
      "metadata": {
        "id": "PHqUcRAM8bU0"
      },
      "outputs": [],
      "source": [
        "def windowed_dataset(series, window_size, batch_size, shuffle):\n",
        "    series = tf.expand_dims(series, axis=-1)\n",
        "    ds = tf.data.Dataset.from_tensor_slices(series)\n",
        "    ds = ds.window(window_size + 1, shift=1, drop_remainder=True)\n",
        "    ds = ds.flat_map(lambda w: w.batch(window_size + 1))\n",
        "    if shuffle:\n",
        "        ds = ds.shuffle(1000)\n",
        "    ds = ds.map(lambda w: (w[:-1], w[-1]))\n",
        "    return ds.batch(batch_size).prefetch(1)"
      ]
    },
    {
      "cell_type": "markdown",
      "metadata": {
        "id": "M5xr8Utj8bU0"
      },
      "source": [
        "Hyperparameter를 정의합니다."
      ]
    },
    {
      "cell_type": "code",
      "execution_count": 30,
      "metadata": {
        "id": "wknnGf098bU0"
      },
      "outputs": [],
      "source": [
        "WINDOW_SIZE=20\n",
        "BATCH_SIZE=32"
      ]
    },
    {
      "cell_type": "code",
      "execution_count": 31,
      "metadata": {
        "id": "l-wO0fly8bU0"
      },
      "outputs": [],
      "source": [
        "# train_data는 학습용 데이터셋, test_data는 검증용 데이터셋 입니다.\n",
        "train_data = windowed_dataset(y_train, WINDOW_SIZE, BATCH_SIZE, True)\n",
        "test_data = windowed_dataset(y_test, WINDOW_SIZE, BATCH_SIZE, False)"
      ]
    },
    {
      "cell_type": "code",
      "execution_count": 32,
      "metadata": {
        "id": "-hfAGXaF8bU0",
        "outputId": "35ca9a1e-84e3-48b3-b16e-814780a6ccd7",
        "colab": {
          "base_uri": "https://localhost:8080/"
        }
      },
      "outputs": [
        {
          "output_type": "stream",
          "name": "stdout",
          "text": [
            "데이터셋(X) 구성(batch_size, window_size, feature갯수): (32, 20, 1)\n",
            "데이터셋(Y) 구성(batch_size, window_size, feature갯수): (32, 1)\n"
          ]
        }
      ],
      "source": [
        "# 아래의 코드로 데이터셋의 구성을 확인해 볼 수 있습니다.\n",
        "# X: (batch_size, window_size, feature)\n",
        "# Y: (batch_size, feature)\n",
        "for data in train_data.take(1):\n",
        "    print(f'데이터셋(X) 구성(batch_size, window_size, feature갯수): {data[0].shape}')\n",
        "    print(f'데이터셋(Y) 구성(batch_size, window_size, feature갯수): {data[1].shape}')"
      ]
    },
    {
      "cell_type": "markdown",
      "metadata": {
        "id": "M0bev95S8bU0"
      },
      "source": [
        "## 모델"
      ]
    },
    {
      "cell_type": "code",
      "execution_count": 33,
      "metadata": {
        "id": "mAkmGu1j0l8M"
      },
      "outputs": [],
      "source": [
        "from tensorflow.keras.models import Sequential\n",
        "from tensorflow.keras.layers import Dense, LSTM, Conv1D, Lambda\n",
        "from tensorflow.keras.losses import Huber\n",
        "from tensorflow.keras.optimizers import Adam\n",
        "from tensorflow.keras.callbacks import EarlyStopping, ModelCheckpoint\n",
        "\n",
        "\n",
        "model = Sequential([\n",
        "    # 1차원 feature map 생성\n",
        "    Conv1D(filters=32, kernel_size=5,\n",
        "           padding=\"causal\",\n",
        "           activation=\"relu\",\n",
        "           input_shape=[WINDOW_SIZE, 1]),\n",
        "    # LSTM\n",
        "    LSTM(16, activation='tanh'),\n",
        "    Dense(16, activation=\"relu\"),\n",
        "    Dense(1),\n",
        "])"
      ]
    },
    {
      "cell_type": "code",
      "execution_count": 34,
      "metadata": {
        "id": "xShll_EX0l8T"
      },
      "outputs": [],
      "source": [
        "# Sequence 학습에 비교적 좋은 퍼포먼스를 내는 Huber()를 사용합니다.\n",
        "loss = Huber()\n",
        "optimizer = Adam(0.0005)\n",
        "model.compile(loss=Huber(), optimizer=optimizer, metrics=['mse'])"
      ]
    },
    {
      "cell_type": "code",
      "execution_count": 35,
      "metadata": {
        "id": "6qrMbXx58bU1"
      },
      "outputs": [],
      "source": [
        "# earlystopping은 10번 epoch통안 val_loss 개선이 없다면 학습을 멈춥니다.\n",
        "earlystopping = EarlyStopping(monitor='val_loss', patience=10)\n",
        "# val_loss 기준 체크포인터도 생성합니다.\n",
        "filename = os.path.join('tmp', 'ckeckpointer.ckpt')\n",
        "checkpoint = ModelCheckpoint(filename, \n",
        "                             save_weights_only=True, \n",
        "                             save_best_only=True, \n",
        "                             monitor='val_loss', \n",
        "                             verbose=1)"
      ]
    },
    {
      "cell_type": "code",
      "execution_count": 36,
      "metadata": {
        "colab": {
          "base_uri": "https://localhost:8080/"
        },
        "outputId": "231c7db3-4223-49e3-c116-16bcf827b112",
        "id": "Lz-iuu2b8bU1"
      },
      "outputs": [
        {
          "output_type": "stream",
          "name": "stdout",
          "text": [
            "Epoch 1/50\n",
            "    130/Unknown - 16s 7ms/step - loss: 0.0014 - mse: 0.0027\n",
            "Epoch 1: val_loss improved from inf to 0.00004, saving model to tmp/ckeckpointer.ckpt\n",
            "134/134 [==============================] - 17s 15ms/step - loss: 0.0013 - mse: 0.0027 - val_loss: 4.2468e-05 - val_mse: 8.4936e-05\n",
            "Epoch 2/50\n",
            "126/134 [===========================>..] - ETA: 0s - loss: 2.7728e-04 - mse: 5.5455e-04\n",
            "Epoch 2: val_loss improved from 0.00004 to 0.00004, saving model to tmp/ckeckpointer.ckpt\n",
            "134/134 [==============================] - 1s 8ms/step - loss: 2.6732e-04 - mse: 5.3464e-04 - val_loss: 3.7017e-05 - val_mse: 7.4035e-05\n",
            "Epoch 3/50\n",
            "129/134 [===========================>..] - ETA: 0s - loss: 2.4296e-04 - mse: 4.8593e-04\n",
            "Epoch 3: val_loss did not improve from 0.00004\n",
            "134/134 [==============================] - 1s 8ms/step - loss: 2.3965e-04 - mse: 4.7930e-04 - val_loss: 3.9267e-05 - val_mse: 7.8533e-05\n",
            "Epoch 4/50\n",
            "127/134 [===========================>..] - ETA: 0s - loss: 2.3016e-04 - mse: 4.6032e-04\n",
            "Epoch 4: val_loss did not improve from 0.00004\n",
            "134/134 [==============================] - 1s 8ms/step - loss: 2.2637e-04 - mse: 4.5274e-04 - val_loss: 3.7199e-05 - val_mse: 7.4398e-05\n",
            "Epoch 5/50\n",
            "125/134 [==========================>...] - ETA: 0s - loss: 2.0767e-04 - mse: 4.1534e-04\n",
            "Epoch 5: val_loss improved from 0.00004 to 0.00003, saving model to tmp/ckeckpointer.ckpt\n",
            "134/134 [==============================] - 1s 8ms/step - loss: 1.9828e-04 - mse: 3.9655e-04 - val_loss: 3.0250e-05 - val_mse: 6.0500e-05\n",
            "Epoch 6/50\n",
            "125/134 [==========================>...] - ETA: 0s - loss: 1.7745e-04 - mse: 3.5490e-04\n",
            "Epoch 6: val_loss improved from 0.00003 to 0.00003, saving model to tmp/ckeckpointer.ckpt\n",
            "134/134 [==============================] - 1s 8ms/step - loss: 1.7227e-04 - mse: 3.4455e-04 - val_loss: 2.6727e-05 - val_mse: 5.3454e-05\n",
            "Epoch 7/50\n",
            "128/134 [===========================>..] - ETA: 0s - loss: 1.6670e-04 - mse: 3.3340e-04\n",
            "Epoch 7: val_loss did not improve from 0.00003\n",
            "134/134 [==============================] - 1s 8ms/step - loss: 1.6598e-04 - mse: 3.3196e-04 - val_loss: 3.4279e-05 - val_mse: 6.8559e-05\n",
            "Epoch 8/50\n",
            "129/134 [===========================>..] - ETA: 0s - loss: 1.4999e-04 - mse: 2.9998e-04\n",
            "Epoch 8: val_loss did not improve from 0.00003\n",
            "134/134 [==============================] - 1s 9ms/step - loss: 1.4639e-04 - mse: 2.9279e-04 - val_loss: 2.8757e-05 - val_mse: 5.7513e-05\n",
            "Epoch 9/50\n",
            "132/134 [============================>.] - ETA: 0s - loss: 1.4312e-04 - mse: 2.8624e-04\n",
            "Epoch 9: val_loss improved from 0.00003 to 0.00002, saving model to tmp/ckeckpointer.ckpt\n",
            "134/134 [==============================] - 1s 8ms/step - loss: 1.4222e-04 - mse: 2.8444e-04 - val_loss: 2.2469e-05 - val_mse: 4.4939e-05\n",
            "Epoch 10/50\n",
            "133/134 [============================>.] - ETA: 0s - loss: 1.2831e-04 - mse: 2.5661e-04\n",
            "Epoch 10: val_loss did not improve from 0.00002\n",
            "134/134 [==============================] - 1s 8ms/step - loss: 1.2795e-04 - mse: 2.5590e-04 - val_loss: 2.6037e-05 - val_mse: 5.2074e-05\n",
            "Epoch 11/50\n",
            "127/134 [===========================>..] - ETA: 0s - loss: 1.2379e-04 - mse: 2.4757e-04\n",
            "Epoch 11: val_loss improved from 0.00002 to 0.00002, saving model to tmp/ckeckpointer.ckpt\n",
            "134/134 [==============================] - 1s 8ms/step - loss: 1.1948e-04 - mse: 2.3897e-04 - val_loss: 1.9349e-05 - val_mse: 3.8697e-05\n",
            "Epoch 12/50\n",
            "126/134 [===========================>..] - ETA: 0s - loss: 1.1745e-04 - mse: 2.3491e-04\n",
            "Epoch 12: val_loss improved from 0.00002 to 0.00002, saving model to tmp/ckeckpointer.ckpt\n",
            "134/134 [==============================] - 1s 8ms/step - loss: 1.1453e-04 - mse: 2.2906e-04 - val_loss: 1.8271e-05 - val_mse: 3.6543e-05\n",
            "Epoch 13/50\n",
            "129/134 [===========================>..] - ETA: 0s - loss: 1.4385e-04 - mse: 2.8770e-04\n",
            "Epoch 13: val_loss did not improve from 0.00002\n",
            "134/134 [==============================] - 1s 8ms/step - loss: 1.4062e-04 - mse: 2.8124e-04 - val_loss: 3.6328e-05 - val_mse: 7.2656e-05\n",
            "Epoch 14/50\n",
            "127/134 [===========================>..] - ETA: 0s - loss: 1.0776e-04 - mse: 2.1553e-04\n",
            "Epoch 14: val_loss improved from 0.00002 to 0.00002, saving model to tmp/ckeckpointer.ckpt\n",
            "134/134 [==============================] - 1s 8ms/step - loss: 1.0537e-04 - mse: 2.1075e-04 - val_loss: 1.7793e-05 - val_mse: 3.5586e-05\n",
            "Epoch 15/50\n",
            "130/134 [============================>.] - ETA: 0s - loss: 1.0128e-04 - mse: 2.0255e-04\n",
            "Epoch 15: val_loss improved from 0.00002 to 0.00002, saving model to tmp/ckeckpointer.ckpt\n",
            "134/134 [==============================] - 1s 9ms/step - loss: 1.0011e-04 - mse: 2.0022e-04 - val_loss: 1.7375e-05 - val_mse: 3.4750e-05\n",
            "Epoch 16/50\n",
            "131/134 [============================>.] - ETA: 0s - loss: 9.9988e-05 - mse: 1.9998e-04\n",
            "Epoch 16: val_loss did not improve from 0.00002\n",
            "134/134 [==============================] - 1s 9ms/step - loss: 9.9377e-05 - mse: 1.9875e-04 - val_loss: 1.7619e-05 - val_mse: 3.5239e-05\n",
            "Epoch 17/50\n",
            "134/134 [==============================] - ETA: 0s - loss: 9.3568e-05 - mse: 1.8714e-04\n",
            "Epoch 17: val_loss improved from 0.00002 to 0.00002, saving model to tmp/ckeckpointer.ckpt\n",
            "134/134 [==============================] - 1s 8ms/step - loss: 9.3568e-05 - mse: 1.8714e-04 - val_loss: 1.6915e-05 - val_mse: 3.3830e-05\n",
            "Epoch 18/50\n",
            "134/134 [==============================] - ETA: 0s - loss: 9.0180e-05 - mse: 1.8036e-04\n",
            "Epoch 18: val_loss improved from 0.00002 to 0.00002, saving model to tmp/ckeckpointer.ckpt\n",
            "134/134 [==============================] - 1s 8ms/step - loss: 9.0180e-05 - mse: 1.8036e-04 - val_loss: 1.5344e-05 - val_mse: 3.0687e-05\n",
            "Epoch 19/50\n",
            "125/134 [==========================>...] - ETA: 0s - loss: 9.7160e-05 - mse: 1.9432e-04\n",
            "Epoch 19: val_loss improved from 0.00002 to 0.00002, saving model to tmp/ckeckpointer.ckpt\n",
            "134/134 [==============================] - 1s 8ms/step - loss: 9.2603e-05 - mse: 1.8521e-04 - val_loss: 1.5278e-05 - val_mse: 3.0556e-05\n",
            "Epoch 20/50\n",
            "126/134 [===========================>..] - ETA: 0s - loss: 8.7960e-05 - mse: 1.7592e-04\n",
            "Epoch 20: val_loss did not improve from 0.00002\n",
            "134/134 [==============================] - 1s 9ms/step - loss: 8.6195e-05 - mse: 1.7239e-04 - val_loss: 3.1897e-05 - val_mse: 6.3793e-05\n",
            "Epoch 21/50\n",
            "124/134 [==========================>...] - ETA: 0s - loss: 8.7560e-05 - mse: 1.7512e-04\n",
            "Epoch 21: val_loss improved from 0.00002 to 0.00001, saving model to tmp/ckeckpointer.ckpt\n",
            "134/134 [==============================] - 1s 8ms/step - loss: 8.4399e-05 - mse: 1.6880e-04 - val_loss: 1.4158e-05 - val_mse: 2.8317e-05\n",
            "Epoch 22/50\n",
            "127/134 [===========================>..] - ETA: 0s - loss: 7.9561e-05 - mse: 1.5912e-04\n",
            "Epoch 22: val_loss improved from 0.00001 to 0.00001, saving model to tmp/ckeckpointer.ckpt\n",
            "134/134 [==============================] - 1s 8ms/step - loss: 7.7625e-05 - mse: 1.5525e-04 - val_loss: 1.4154e-05 - val_mse: 2.8307e-05\n",
            "Epoch 23/50\n",
            "128/134 [===========================>..] - ETA: 0s - loss: 8.3685e-05 - mse: 1.6737e-04\n",
            "Epoch 23: val_loss improved from 0.00001 to 0.00001, saving model to tmp/ckeckpointer.ckpt\n",
            "134/134 [==============================] - 1s 8ms/step - loss: 8.2375e-05 - mse: 1.6475e-04 - val_loss: 1.4148e-05 - val_mse: 2.8295e-05\n",
            "Epoch 24/50\n",
            "126/134 [===========================>..] - ETA: 0s - loss: 7.5773e-05 - mse: 1.5155e-04\n",
            "Epoch 24: val_loss did not improve from 0.00001\n",
            "134/134 [==============================] - 1s 8ms/step - loss: 7.3160e-05 - mse: 1.4632e-04 - val_loss: 1.6017e-05 - val_mse: 3.2034e-05\n",
            "Epoch 25/50\n",
            "127/134 [===========================>..] - ETA: 0s - loss: 7.5614e-05 - mse: 1.5123e-04\n",
            "Epoch 25: val_loss improved from 0.00001 to 0.00001, saving model to tmp/ckeckpointer.ckpt\n",
            "134/134 [==============================] - 1s 8ms/step - loss: 7.3448e-05 - mse: 1.4690e-04 - val_loss: 1.2976e-05 - val_mse: 2.5953e-05\n",
            "Epoch 26/50\n",
            "134/134 [==============================] - ETA: 0s - loss: 8.7910e-05 - mse: 1.7582e-04\n",
            "Epoch 26: val_loss did not improve from 0.00001\n",
            "134/134 [==============================] - 1s 8ms/step - loss: 8.7910e-05 - mse: 1.7582e-04 - val_loss: 1.3144e-05 - val_mse: 2.6288e-05\n",
            "Epoch 27/50\n",
            "129/134 [===========================>..] - ETA: 0s - loss: 8.1795e-05 - mse: 1.6359e-04\n",
            "Epoch 27: val_loss did not improve from 0.00001\n",
            "134/134 [==============================] - 1s 8ms/step - loss: 8.0066e-05 - mse: 1.6013e-04 - val_loss: 1.4040e-05 - val_mse: 2.8079e-05\n",
            "Epoch 28/50\n",
            "128/134 [===========================>..] - ETA: 0s - loss: 7.1603e-05 - mse: 1.4321e-04\n",
            "Epoch 28: val_loss improved from 0.00001 to 0.00001, saving model to tmp/ckeckpointer.ckpt\n",
            "134/134 [==============================] - 1s 8ms/step - loss: 6.9810e-05 - mse: 1.3962e-04 - val_loss: 1.2450e-05 - val_mse: 2.4900e-05\n",
            "Epoch 29/50\n",
            "128/134 [===========================>..] - ETA: 0s - loss: 7.6266e-05 - mse: 1.5253e-04\n",
            "Epoch 29: val_loss did not improve from 0.00001\n",
            "134/134 [==============================] - 1s 9ms/step - loss: 7.4997e-05 - mse: 1.4999e-04 - val_loss: 1.3706e-05 - val_mse: 2.7413e-05\n",
            "Epoch 30/50\n",
            "134/134 [==============================] - ETA: 0s - loss: 7.4862e-05 - mse: 1.4972e-04\n",
            "Epoch 30: val_loss improved from 0.00001 to 0.00001, saving model to tmp/ckeckpointer.ckpt\n",
            "134/134 [==============================] - 1s 9ms/step - loss: 7.4862e-05 - mse: 1.4972e-04 - val_loss: 1.2294e-05 - val_mse: 2.4589e-05\n",
            "Epoch 31/50\n",
            "129/134 [===========================>..] - ETA: 0s - loss: 6.7467e-05 - mse: 1.3493e-04\n",
            "Epoch 31: val_loss did not improve from 0.00001\n",
            "134/134 [==============================] - 1s 9ms/step - loss: 6.6303e-05 - mse: 1.3261e-04 - val_loss: 1.3960e-05 - val_mse: 2.7920e-05\n",
            "Epoch 32/50\n",
            "133/134 [============================>.] - ETA: 0s - loss: 7.3661e-05 - mse: 1.4732e-04\n",
            "Epoch 32: val_loss did not improve from 0.00001\n",
            "134/134 [==============================] - 1s 8ms/step - loss: 7.3744e-05 - mse: 1.4749e-04 - val_loss: 1.2300e-05 - val_mse: 2.4601e-05\n",
            "Epoch 33/50\n",
            "130/134 [============================>.] - ETA: 0s - loss: 6.4582e-05 - mse: 1.2916e-04\n",
            "Epoch 33: val_loss did not improve from 0.00001\n",
            "134/134 [==============================] - 1s 8ms/step - loss: 6.3630e-05 - mse: 1.2726e-04 - val_loss: 1.3448e-05 - val_mse: 2.6895e-05\n",
            "Epoch 34/50\n",
            "126/134 [===========================>..] - ETA: 0s - loss: 6.5869e-05 - mse: 1.3174e-04\n",
            "Epoch 34: val_loss improved from 0.00001 to 0.00001, saving model to tmp/ckeckpointer.ckpt\n",
            "134/134 [==============================] - 1s 8ms/step - loss: 6.4081e-05 - mse: 1.2816e-04 - val_loss: 1.1541e-05 - val_mse: 2.3082e-05\n",
            "Epoch 35/50\n",
            "127/134 [===========================>..] - ETA: 0s - loss: 6.6434e-05 - mse: 1.3287e-04\n",
            "Epoch 35: val_loss did not improve from 0.00001\n",
            "134/134 [==============================] - 1s 9ms/step - loss: 6.5405e-05 - mse: 1.3081e-04 - val_loss: 2.3058e-05 - val_mse: 4.6116e-05\n",
            "Epoch 36/50\n",
            "126/134 [===========================>..] - ETA: 0s - loss: 6.9054e-05 - mse: 1.3811e-04\n",
            "Epoch 36: val_loss did not improve from 0.00001\n",
            "134/134 [==============================] - 1s 8ms/step - loss: 6.7051e-05 - mse: 1.3410e-04 - val_loss: 2.0046e-05 - val_mse: 4.0092e-05\n",
            "Epoch 37/50\n",
            "128/134 [===========================>..] - ETA: 0s - loss: 6.5246e-05 - mse: 1.3049e-04\n",
            "Epoch 37: val_loss did not improve from 0.00001\n",
            "134/134 [==============================] - 1s 9ms/step - loss: 6.4013e-05 - mse: 1.2803e-04 - val_loss: 1.2434e-05 - val_mse: 2.4868e-05\n",
            "Epoch 38/50\n",
            "124/134 [==========================>...] - ETA: 0s - loss: 6.4512e-05 - mse: 1.2902e-04\n",
            "Epoch 38: val_loss improved from 0.00001 to 0.00001, saving model to tmp/ckeckpointer.ckpt\n",
            "134/134 [==============================] - 1s 8ms/step - loss: 6.4421e-05 - mse: 1.2884e-04 - val_loss: 1.1050e-05 - val_mse: 2.2100e-05\n",
            "Epoch 39/50\n",
            "127/134 [===========================>..] - ETA: 0s - loss: 6.4927e-05 - mse: 1.2985e-04\n",
            "Epoch 39: val_loss improved from 0.00001 to 0.00001, saving model to tmp/ckeckpointer.ckpt\n",
            "134/134 [==============================] - 1s 8ms/step - loss: 6.4156e-05 - mse: 1.2831e-04 - val_loss: 1.0894e-05 - val_mse: 2.1787e-05\n",
            "Epoch 40/50\n",
            "127/134 [===========================>..] - ETA: 0s - loss: 6.5599e-05 - mse: 1.3120e-04\n",
            "Epoch 40: val_loss did not improve from 0.00001\n",
            "134/134 [==============================] - 1s 8ms/step - loss: 6.4064e-05 - mse: 1.2813e-04 - val_loss: 1.1432e-05 - val_mse: 2.2863e-05\n",
            "Epoch 41/50\n",
            "128/134 [===========================>..] - ETA: 0s - loss: 5.9565e-05 - mse: 1.1913e-04\n",
            "Epoch 41: val_loss did not improve from 0.00001\n",
            "134/134 [==============================] - 1s 8ms/step - loss: 5.8398e-05 - mse: 1.1680e-04 - val_loss: 1.1644e-05 - val_mse: 2.3289e-05\n",
            "Epoch 42/50\n",
            "126/134 [===========================>..] - ETA: 0s - loss: 6.1042e-05 - mse: 1.2208e-04\n",
            "Epoch 42: val_loss did not improve from 0.00001\n",
            "134/134 [==============================] - 1s 8ms/step - loss: 6.1652e-05 - mse: 1.2330e-04 - val_loss: 1.6769e-05 - val_mse: 3.3539e-05\n",
            "Epoch 43/50\n",
            "128/134 [===========================>..] - ETA: 0s - loss: 6.5698e-05 - mse: 1.3140e-04\n",
            "Epoch 43: val_loss did not improve from 0.00001\n",
            "134/134 [==============================] - 1s 9ms/step - loss: 6.3921e-05 - mse: 1.2784e-04 - val_loss: 1.0992e-05 - val_mse: 2.1984e-05\n",
            "Epoch 44/50\n",
            "134/134 [==============================] - ETA: 0s - loss: 5.7407e-05 - mse: 1.1481e-04\n",
            "Epoch 44: val_loss improved from 0.00001 to 0.00001, saving model to tmp/ckeckpointer.ckpt\n",
            "134/134 [==============================] - 1s 8ms/step - loss: 5.7407e-05 - mse: 1.1481e-04 - val_loss: 1.0469e-05 - val_mse: 2.0937e-05\n",
            "Epoch 45/50\n",
            "133/134 [============================>.] - ETA: 0s - loss: 6.1864e-05 - mse: 1.2373e-04\n",
            "Epoch 45: val_loss did not improve from 0.00001\n",
            "134/134 [==============================] - 1s 8ms/step - loss: 6.1706e-05 - mse: 1.2341e-04 - val_loss: 1.0663e-05 - val_mse: 2.1325e-05\n",
            "Epoch 46/50\n",
            "133/134 [============================>.] - ETA: 0s - loss: 5.6251e-05 - mse: 1.1250e-04\n",
            "Epoch 46: val_loss did not improve from 0.00001\n",
            "134/134 [==============================] - 1s 8ms/step - loss: 5.6090e-05 - mse: 1.1218e-04 - val_loss: 1.0593e-05 - val_mse: 2.1186e-05\n",
            "Epoch 47/50\n",
            "125/134 [==========================>...] - ETA: 0s - loss: 6.0891e-05 - mse: 1.2178e-04\n",
            "Epoch 47: val_loss did not improve from 0.00001\n",
            "134/134 [==============================] - 1s 9ms/step - loss: 5.8592e-05 - mse: 1.1718e-04 - val_loss: 1.0634e-05 - val_mse: 2.1269e-05\n",
            "Epoch 48/50\n",
            "130/134 [============================>.] - ETA: 0s - loss: 5.7234e-05 - mse: 1.1447e-04\n",
            "Epoch 48: val_loss did not improve from 0.00001\n",
            "134/134 [==============================] - 1s 9ms/step - loss: 5.6265e-05 - mse: 1.1253e-04 - val_loss: 1.3012e-05 - val_mse: 2.6024e-05\n",
            "Epoch 49/50\n",
            "125/134 [==========================>...] - ETA: 0s - loss: 6.1002e-05 - mse: 1.2200e-04\n",
            "Epoch 49: val_loss did not improve from 0.00001\n",
            "134/134 [==============================] - 1s 8ms/step - loss: 5.7922e-05 - mse: 1.1584e-04 - val_loss: 1.0508e-05 - val_mse: 2.1017e-05\n",
            "Epoch 50/50\n",
            "126/134 [===========================>..] - ETA: 0s - loss: 5.5472e-05 - mse: 1.1094e-04\n",
            "Epoch 50: val_loss did not improve from 0.00001\n",
            "134/134 [==============================] - 1s 8ms/step - loss: 5.4120e-05 - mse: 1.0824e-04 - val_loss: 1.3379e-05 - val_mse: 2.6757e-05\n"
          ]
        }
      ],
      "source": [
        "history = model.fit(train_data, \n",
        "                    validation_data=(test_data), \n",
        "                    epochs=50, \n",
        "                    callbacks=[checkpoint, earlystopping])"
      ]
    },
    {
      "cell_type": "markdown",
      "metadata": {
        "id": "n-jZxCtr8bU1"
      },
      "source": [
        "저장한 ModelCheckpoint 를 로드합니다."
      ]
    },
    {
      "cell_type": "code",
      "execution_count": 37,
      "metadata": {
        "id": "RoPIDRSo32f-",
        "outputId": "ada89721-a93f-4cd3-aeb7-47deecea1d6c",
        "colab": {
          "base_uri": "https://localhost:8080/"
        }
      },
      "outputs": [
        {
          "output_type": "execute_result",
          "data": {
            "text/plain": [
              "<tensorflow.python.training.tracking.util.CheckpointLoadStatus at 0x7fa10a5cf3d0>"
            ]
          },
          "metadata": {},
          "execution_count": 37
        }
      ],
      "source": [
        "model.load_weights(filename)"
      ]
    },
    {
      "cell_type": "markdown",
      "metadata": {
        "id": "F0CAzp7t8bU1"
      },
      "source": [
        "`test_data`를 활용하여 예측을 진행합니다."
      ]
    },
    {
      "cell_type": "code",
      "execution_count": 38,
      "metadata": {
        "id": "WxAxSLNL0l8Z"
      },
      "outputs": [],
      "source": [
        "pred = model.predict(test_data)"
      ]
    },
    {
      "cell_type": "code",
      "execution_count": 39,
      "metadata": {
        "colab": {
          "base_uri": "https://localhost:8080/"
        },
        "id": "yMPXjSQ10l8d",
        "outputId": "4f25ee28-2cd3-4ca4-ecb5-7ec55cdc7f1f"
      },
      "outputs": [
        {
          "output_type": "execute_result",
          "data": {
            "text/plain": [
              "(1053, 1)"
            ]
          },
          "metadata": {},
          "execution_count": 39
        }
      ],
      "source": [
        "pred.shape"
      ]
    },
    {
      "cell_type": "markdown",
      "metadata": {
        "id": "jaWpXnQf6zMt"
      },
      "source": [
        "## 예측 데이터 시각화"
      ]
    },
    {
      "cell_type": "markdown",
      "metadata": {
        "id": "9lDtsJgd8bU2"
      },
      "source": [
        "아래 시각화 코드중 y_test 데이터에 **[20:]**으로 슬라이싱을 한 이유는\n",
        "\n",
        "예측 데이터에서 20일치의 데이터로 21일치를 예측해야하기 때문에 test_data로 예측 시 *앞의 20일은 예측하지 않습니다.*\n",
        "\n",
        "따라서, 20번 째 index와 비교하면 더욱 정확합니다."
      ]
    },
    {
      "cell_type": "code",
      "execution_count": 40,
      "metadata": {
        "colab": {
          "base_uri": "https://localhost:8080/",
          "height": 592
        },
        "id": "2F4QQ1O_0l8m",
        "outputId": "991456ce-d811-455a-c4f5-84688b4784ff"
      },
      "outputs": [
        {
          "output_type": "display_data",
          "data": {
            "text/plain": [
              "<Figure size 1440x720 with 1 Axes>"
            ],
            "image/png": "[encoded data removed]"
          },
          "metadata": {
            "needs_background": "light"
          }
        }
      ],
      "source": [
        "plt.figure(figsize=(20, 10))\n",
        "plt.plot(np.asarray(y_test)[20:], label='actual')\n",
        "plt.plot(pred, label='prediction')\n",
        "plt.legend()\n",
        "plt.show()"
      ]
    },
    {
      "cell_type": "code",
      "source": [
        ""
      ],
      "metadata": {
        "id": "EzxteWfner9v"
      },
      "execution_count": null,
      "outputs": []
    }
  ],
  "metadata": {
    "accelerator": "GPU",
    "colab": {
      "collapsed_sections": [],
      "name": "6주차 실습과제_LSTM을 활용한 두산에너빌리티 주가예측.ipynb",
      "provenance": [],
      "include_colab_link": true
    },
    "kernelspec": {
      "display_name": "Python 3",
      "language": "python",
      "name": "python3"
    },
    "language_info": {
      "codemirror_mode": {
        "name": "ipython",
        "version": 3
      },
      "file_extension": ".py",
      "mimetype": "text/x-python",
      "name": "python",
      "nbconvert_exporter": "python",
      "pygments_lexer": "ipython3",
      "version": "3.6.10"
    }
  },
  "nbformat": 4,
  "nbformat_minor": 0
}