{
  "nbformat": 4,
  "nbformat_minor": 0,
  "metadata": {
    "colab": {
      "name": "Class 7. Unsupervised learning K_means clustering.ipynb",
      "provenance": [],
      "collapsed_sections": [],
      "authorship_tag": "ABX9TyOJy0rme88sqAmy4n5JHNih",
      "include_colab_link": true
    },
    "kernelspec": {
      "name": "python3",
      "display_name": "Python 3"
    },
    "language_info": {
      "name": "python"
    }
  },
  "cells": [
    {
      "cell_type": "markdown",
      "metadata": {
        "id": "view-in-github",
        "colab_type": "text"
      },
      "source": [
        "<a href=\"https://colab.research.google.com/github/SONINJE/AI_system/blob/main/Class_7_Unsupervised_learning_K_means_clustering.ipynb\" target=\"_parent\"><img src=\"https://colab.research.google.com/assets/colab-badge.svg\" alt=\"Open In Colab\"/></a>"
      ]
    },
    {
      "cell_type": "code",
      "execution_count": 1,
      "metadata": {
        "id": "YVn_PMzD-uEs"
      },
      "outputs": [],
      "source": [
        "import numpy as np\n",
        "import matplotlib.pyplot as plt"
      ]
    },
    {
      "cell_type": "code",
      "source": [
        "x = 5 * np.random.randn(500)\n",
        "y = 2 * np.random.randn(500)\n",
        "\n",
        "feature = np.zeros((500,2))\n",
        "feature[:, 0] = x\n",
        "feature[:, 1] = y\n",
        "\n",
        "plt.figure(figsize=(8,8))\n",
        "plt.title('input data')\n",
        "plt.scatter(x,y, color='black')\n",
        "\n",
        "plt.tight_layout()\n",
        "plt.show()"
      ],
      "metadata": {
        "colab": {
          "base_uri": "https://localhost:8080/",
          "height": 585
        },
        "id": "Ildoa8U1_DwN",
        "outputId": "ca272c61-0d53-43be-ef55-0e0dfdb6c0fa"
      },
      "execution_count": 11,
      "outputs": [
        {
          "output_type": "display_data",
          "data": {
            "text/plain": [
              "<Figure size 576x576 with 1 Axes>"
            ],
            "image/png": "[encoded data removed]"
          },
          "metadata": {
            "needs_background": "light"
          }
        }
      ]
    },
    {
      "cell_type": "code",
      "source": [
        "num_data = np.size(feature, axis=0)\n",
        "num_feature  = np.size(feature, axis=1)\n",
        "\n",
        "print(f'number of data: {num_data}')\n",
        "print(f'number of feature: {num_feature}')"
      ],
      "metadata": {
        "colab": {
          "base_uri": "https://localhost:8080/"
        },
        "id": "OEb_ZtveAG7Y",
        "outputId": "082827e9-fc5b-4376-acbe-2d4a8ce74ea3"
      },
      "execution_count": 12,
      "outputs": [
        {
          "output_type": "stream",
          "name": "stdout",
          "text": [
            "number of data: 500\n",
            "number of feature: 2\n"
          ]
        }
      ]
    },
    {
      "cell_type": "code",
      "source": [
        "cluster_k = 2\n",
        "iteration = 10\n",
        "loss = np.zeros(iteration)\n",
        "label_pred = np.random.randint(0, cluster_k, size=(num_data))\n",
        "distance = np.zeros((num_data, cluster_k))\n",
        "distance.shape\n"
      ],
      "metadata": {
        "colab": {
          "base_uri": "https://localhost:8080/"
        },
        "id": "Fbqrnkpy_RUM",
        "outputId": "6b3357aa-60b3-4c39-a9ce-09b26d6d2f1d"
      },
      "execution_count": 14,
      "outputs": [
        {
          "output_type": "execute_result",
          "data": {
            "text/plain": [
              "(500, 2)"
            ]
          },
          "metadata": {},
          "execution_count": 14
        }
      ]
    },
    {
      "cell_type": "code",
      "source": [
        "center = np.zeros(shape=(cluster_k, num_feature)) # 2x2\n",
        "cluster_1 = feature[np.where(label_pred==0)]\n",
        "center[0] = np.sum(cluster_1, axis=0) / len(cluster_1)\n",
        "cluster_2 = feature[np.where(label_pred==1)]\n",
        "center[1] = np.sum(cluster_2, axis=0) / len(cluster_2)\n",
        "center"
      ],
      "metadata": {
        "colab": {
          "base_uri": "https://localhost:8080/"
        },
        "id": "8JttW4wtBgvl",
        "outputId": "a06e77a0-29e7-4593-86f6-6d14917aecf7"
      },
      "execution_count": 20,
      "outputs": [
        {
          "output_type": "execute_result",
          "data": {
            "text/plain": [
              "array([[ 0.22966171, -0.18583508],\n",
              "       [-0.36014994,  0.00062645]])"
            ]
          },
          "metadata": {},
          "execution_count": 20
        }
      ]
    },
    {
      "cell_type": "code",
      "source": [
        "loss_1 = np.sum((feature-center[0])**2, axis=1)\n",
        "loss_2 = np.sum((feature-center[1])**2, axis=1)"
      ],
      "metadata": {
        "id": "77RpeZGxBp6h"
      },
      "execution_count": 24,
      "outputs": []
    },
    {
      "cell_type": "code",
      "source": [
        "distance[:, 0] = loss_1\n",
        "distance[:, 1] = loss_2"
      ],
      "metadata": {
        "id": "Q55h7IFwC4e-"
      },
      "execution_count": 25,
      "outputs": []
    },
    {
      "cell_type": "code",
      "source": [
        "label_pred = np.argmin(distance, axis= 1)\n",
        "label"
      ],
      "metadata": {
        "id": "wa4OZ3K8C_VI"
      },
      "execution_count": null,
      "outputs": []
    }
  ]
}