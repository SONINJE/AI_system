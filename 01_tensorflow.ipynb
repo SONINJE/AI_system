{
  "nbformat": 4,
  "nbformat_minor": 0,
  "metadata": {
    "colab": {
      "name": "01 tensorflow.ipynb",
      "provenance": [],
      "collapsed_sections": [],
      "include_colab_link": true
    },
    "kernelspec": {
      "name": "python3",
      "display_name": "Python 3"
    },
    "language_info": {
      "name": "python"
    },
    "accelerator": "GPU",
    "gpuClass": "standard"
  },
  "cells": [
    {
      "cell_type": "markdown",
      "metadata": {
        "id": "view-in-github",
        "colab_type": "text"
      },
      "source": [
        "<a href=\"https://colab.research.google.com/github/SONINJE/AI_system/blob/main/01_tensorflow.ipynb\" target=\"_parent\"><img src=\"https://colab.research.google.com/assets/colab-badge.svg\" alt=\"Open In Colab\"/></a>"
      ]
    },
    {
      "cell_type": "code",
      "execution_count": 117,
      "metadata": {
        "id": "ZPKQwnxVj0tA"
      },
      "outputs": [],
      "source": [
        "import tensorflow as tf\n",
        "import numpy as np"
      ]
    },
    {
      "cell_type": "code",
      "source": [
        "print(tf.__version__)"
      ],
      "metadata": {
        "id": "JrKlzonqkFRz",
        "colab": {
          "base_uri": "https://localhost:8080/"
        },
        "outputId": "ec4104fb-2500-4124-efc7-7a4d30ac522e"
      },
      "execution_count": 118,
      "outputs": [
        {
          "output_type": "stream",
          "name": "stdout",
          "text": [
            "2.8.2\n"
          ]
        }
      ]
    },
    {
      "cell_type": "markdown",
      "source": [
        "tf.constant(상수)\n",
        ": 상수형 텐서로써 할당된 값의 변경이 불가"
      ],
      "metadata": {
        "id": "YSs0qTeakGTf"
      }
    },
    {
      "cell_type": "code",
      "source": [
        "# (2, 2, 3)\n",
        "d3_tensor = tf.constant([[[1, 2, 3],\n",
        "                          [4, 5, 6]],\n",
        "                         [[-1, -2, -3],\n",
        "                          [-4, -5, -6]]])"
      ],
      "metadata": {
        "id": "izDu6f0nkbzk"
      },
      "execution_count": 119,
      "outputs": []
    },
    {
      "cell_type": "code",
      "source": [
        "d3_tensor"
      ],
      "metadata": {
        "id": "hKCgDXaKkdn9",
        "colab": {
          "base_uri": "https://localhost:8080/"
        },
        "outputId": "feb68b15-3931-45d9-b3a3-1f27582d764e"
      },
      "execution_count": 121,
      "outputs": [
        {
          "output_type": "execute_result",
          "data": {
            "text/plain": [
              "<tf.Tensor: shape=(2, 2, 3), dtype=int32, numpy=\n",
              "array([[[ 1,  2,  3],\n",
              "        [ 4,  5,  6]],\n",
              "\n",
              "       [[-1, -2, -3],\n",
              "        [-4, -5, -6]]], dtype=int32)>"
            ]
          },
          "metadata": {},
          "execution_count": 121
        }
      ]
    },
    {
      "cell_type": "code",
      "source": [
        "d3_tensor[0, 0, 0] = 0"
      ],
      "metadata": {
        "id": "jT5OYqtTkv2I",
        "colab": {
          "base_uri": "https://localhost:8080/",
          "height": 174
        },
        "outputId": "3dfbc4a4-4727-4f5e-bf13-b1797801d0eb"
      },
      "execution_count": 122,
      "outputs": [
        {
          "output_type": "error",
          "ename": "TypeError",
          "evalue": "ignored",
          "traceback": [
            "\u001b[0;31m---------------------------------------------------------------------------\u001b[0m",
            "\u001b[0;31mTypeError\u001b[0m                                 Traceback (most recent call last)",
            "\u001b[0;32m<ipython-input-122-430307a3c758>\u001b[0m in \u001b[0;36m<module>\u001b[0;34m()\u001b[0m\n\u001b[0;32m----> 1\u001b[0;31m \u001b[0md3_tensor\u001b[0m\u001b[0;34m[\u001b[0m\u001b[0;36m0\u001b[0m\u001b[0;34m,\u001b[0m \u001b[0;36m0\u001b[0m\u001b[0;34m,\u001b[0m \u001b[0;36m0\u001b[0m\u001b[0;34m]\u001b[0m \u001b[0;34m=\u001b[0m \u001b[0;36m0\u001b[0m\u001b[0;34m\u001b[0m\u001b[0;34m\u001b[0m\u001b[0m\n\u001b[0m",
            "\u001b[0;31mTypeError\u001b[0m: 'tensorflow.python.framework.ops.EagerTensor' object does not support item assignment"
          ]
        }
      ]
    },
    {
      "cell_type": "code",
      "source": [
        "np_d3_tensor = d3_tensor.numpy()"
      ],
      "metadata": {
        "id": "sAjE2GmlkhcK"
      },
      "execution_count": null,
      "outputs": []
    },
    {
      "cell_type": "code",
      "source": [
        "np_d3_tensor"
      ],
      "metadata": {
        "id": "1wJNQjAgklsC"
      },
      "execution_count": null,
      "outputs": []
    },
    {
      "cell_type": "code",
      "source": [
        "np_d3_tensor[0, 0, 0] = 0"
      ],
      "metadata": {
        "id": "zY8OviYwkwnk"
      },
      "execution_count": 123,
      "outputs": []
    },
    {
      "cell_type": "code",
      "source": [
        "print(d3_tensor.ndim)\n",
        "print(d3_tensor.shape)\n",
        "print(d3_tensor.dtype)"
      ],
      "metadata": {
        "id": "jvvUg5HYkyrI",
        "colab": {
          "base_uri": "https://localhost:8080/"
        },
        "outputId": "6087b54a-846a-4059-9e8a-fd3d50e494e2"
      },
      "execution_count": 124,
      "outputs": [
        {
          "output_type": "stream",
          "name": "stdout",
          "text": [
            "3\n",
            "(2, 2, 3)\n",
            "<dtype: 'int32'>\n"
          ]
        }
      ]
    },
    {
      "cell_type": "markdown",
      "source": [
        "tf.Variable(변수):  assign(value) 같은 메소드를 통해 할당된 값의 변경 가능"
      ],
      "metadata": {
        "id": "ANPKLpbokzyK"
      }
    },
    {
      "cell_type": "code",
      "source": [
        "d3_np_tensor = np.array([[[1, 2, 3],\n",
        "                          [4, 5, 6]],\n",
        "                         [[-1, -2, -3],\n",
        "                          [-4, -5, -6]]])"
      ],
      "metadata": {
        "id": "kG77aywsk5H4"
      },
      "execution_count": 125,
      "outputs": []
    },
    {
      "cell_type": "code",
      "source": [
        "d3_np_tensor = d3_np_tensor.astype(np.float32)"
      ],
      "metadata": {
        "id": "2eH8d3pek7bH"
      },
      "execution_count": 126,
      "outputs": []
    },
    {
      "cell_type": "code",
      "source": [
        "d3_np_tensor.dtype"
      ],
      "metadata": {
        "id": "EGqipUXYk8if",
        "colab": {
          "base_uri": "https://localhost:8080/"
        },
        "outputId": "f67af42c-b37e-44b5-9c2e-6b99c5d95d69"
      },
      "execution_count": 127,
      "outputs": [
        {
          "output_type": "execute_result",
          "data": {
            "text/plain": [
              "dtype('float32')"
            ]
          },
          "metadata": {},
          "execution_count": 127
        }
      ]
    },
    {
      "cell_type": "code",
      "source": [
        "d3_var_tensor = tf.Variable(d3_np_tensor)"
      ],
      "metadata": {
        "id": "4vjPUdebk9qY"
      },
      "execution_count": 128,
      "outputs": []
    },
    {
      "cell_type": "code",
      "source": [
        "d3_var_tensor"
      ],
      "metadata": {
        "id": "la66NPmYk-0Z",
        "colab": {
          "base_uri": "https://localhost:8080/"
        },
        "outputId": "f8368f09-3488-41d4-92bd-921e0ad93f22"
      },
      "execution_count": 129,
      "outputs": [
        {
          "output_type": "execute_result",
          "data": {
            "text/plain": [
              "<tf.Variable 'Variable:0' shape=(2, 2, 3) dtype=float32, numpy=\n",
              "array([[[ 1.,  2.,  3.],\n",
              "        [ 4.,  5.,  6.]],\n",
              "\n",
              "       [[-1., -2., -3.],\n",
              "        [-4., -5., -6.]]], dtype=float32)>"
            ]
          },
          "metadata": {},
          "execution_count": 129
        }
      ]
    },
    {
      "cell_type": "code",
      "source": [
        "print(d3_var_tensor.ndim)"
      ],
      "metadata": {
        "id": "JK-9bOp_lAVP",
        "colab": {
          "base_uri": "https://localhost:8080/",
          "height": 174
        },
        "outputId": "0aff182d-994a-401d-9c70-f71314a7c90d"
      },
      "execution_count": 130,
      "outputs": [
        {
          "output_type": "error",
          "ename": "AttributeError",
          "evalue": "ignored",
          "traceback": [
            "\u001b[0;31m---------------------------------------------------------------------------\u001b[0m",
            "\u001b[0;31mAttributeError\u001b[0m                            Traceback (most recent call last)",
            "\u001b[0;32m<ipython-input-130-b033d185e811>\u001b[0m in \u001b[0;36m<module>\u001b[0;34m()\u001b[0m\n\u001b[0;32m----> 1\u001b[0;31m \u001b[0mprint\u001b[0m\u001b[0;34m(\u001b[0m\u001b[0md3_var_tensor\u001b[0m\u001b[0;34m.\u001b[0m\u001b[0mndim\u001b[0m\u001b[0;34m)\u001b[0m\u001b[0;34m\u001b[0m\u001b[0;34m\u001b[0m\u001b[0m\n\u001b[0m",
            "\u001b[0;31mAttributeError\u001b[0m: 'ResourceVariable' object has no attribute 'ndim'"
          ]
        }
      ]
    },
    {
      "cell_type": "code",
      "source": [
        "print(d3_var_tensor.shape)\n",
        "print(d3_var_tensor.dtype)"
      ],
      "metadata": {
        "id": "OLSN1uk1lBZ4",
        "colab": {
          "base_uri": "https://localhost:8080/"
        },
        "outputId": "2d266b86-d36b-4c29-ac3c-25a76012dd8d"
      },
      "execution_count": 131,
      "outputs": [
        {
          "output_type": "stream",
          "name": "stdout",
          "text": [
            "(2, 2, 3)\n",
            "<dtype: 'float32'>\n"
          ]
        }
      ]
    },
    {
      "cell_type": "code",
      "source": [
        "d3_var_tensor[0, 0, 0].assign(0)"
      ],
      "metadata": {
        "id": "ck7-So2BlCom",
        "colab": {
          "base_uri": "https://localhost:8080/"
        },
        "outputId": "b6a5b5bb-ab01-4dcf-ec4d-247649cbf657"
      },
      "execution_count": 132,
      "outputs": [
        {
          "output_type": "execute_result",
          "data": {
            "text/plain": [
              "<tf.Variable 'UnreadVariable' shape=(2, 2, 3) dtype=float32, numpy=\n",
              "array([[[ 0.,  2.,  3.],\n",
              "        [ 4.,  5.,  6.]],\n",
              "\n",
              "       [[-1., -2., -3.],\n",
              "        [-4., -5., -6.]]], dtype=float32)>"
            ]
          },
          "metadata": {},
          "execution_count": 132
        }
      ]
    },
    {
      "cell_type": "markdown",
      "source": [
        "Practice"
      ],
      "metadata": {
        "id": "BDZMuh7flVGr"
      }
    },
    {
      "cell_type": "markdown",
      "source": [
        "1. tensorflow 라이브러리를 이용하여 아래 속성 정보를 가지는 상수 텐서 객체 생성 및 속성 정보 출력"
      ],
      "metadata": {
        "id": "KfhlWmWLlhCM"
      }
    },
    {
      "cell_type": "markdown",
      "source": [
        "[출력 결과] \n",
        "차원        :  3\n",
        "크기        :  (3, 1, 2)\n",
        "데이터 타입 :  <dtype: 'int32'>"
      ],
      "metadata": {
        "id": "hW7B4QMcmfHx"
      }
    },
    {
      "cell_type": "code",
      "source": [
        "d3_tensor = tf.constant([[[1, 2]],\n",
        "                        [[4, 5]],\n",
        "                       [[6, 3]]])"
      ],
      "metadata": {
        "id": "VIJTfsKwmAtr"
      },
      "execution_count": 133,
      "outputs": []
    },
    {
      "cell_type": "markdown",
      "source": [
        "2. 상수 텐서 객체의 값(ndarray) 복사하여 속성 정보 출력"
      ],
      "metadata": {
        "id": "zy3Y0IhFmE7K"
      }
    },
    {
      "cell_type": "markdown",
      "source": [
        "[출력 결과]\n",
        "차원        :  3\n",
        "크기        :  (3, 1, 2)\n",
        "데이터 타입 :  int32"
      ],
      "metadata": {
        "id": "hOPD9OhvmjRM"
      }
    },
    {
      "cell_type": "code",
      "source": [
        "np_d3_tenser = d3_tensor.numpy()"
      ],
      "metadata": {
        "id": "FhcRpsl_mGsf"
      },
      "execution_count": 134,
      "outputs": []
    },
    {
      "cell_type": "markdown",
      "source": [
        "3. tensorflow 라이브러리를 이용하여 아래 속성 정보를 가지는 변수 텐서 객체 생성 및 속성 정보 출력\n"
      ],
      "metadata": {
        "id": "En4RRf40mG7R"
      }
    },
    {
      "cell_type": "markdown",
      "source": [
        "[출력 결과] 크기 : (2, 3, 1) 데이터 타입 : <dtype: 'int32'>"
      ],
      "metadata": {
        "id": "wwq4PKuGfvKj"
      }
    },
    {
      "cell_type": "markdown",
      "source": [
        "연산 : Numpy에서 사용 되는 대부분의 수학 연산을 동일한 방법으로 사용 가능 (TPU, GPU등 가속 하드웨어 이용하여 수행)"
      ],
      "metadata": {
        "id": "9YY1IiwbnJXz"
      }
    },
    {
      "cell_type": "code",
      "source": [
        "#(2, 3)\n",
        "tensor_a = tf.constant([[1., 2., 3.],\n",
        "                        [4., 5., 6.]])\n",
        "#(2, 3)\n",
        "tensor_b = tf.constant([[7., 8., 9.],\n",
        "                        [10., 11., 12.]])"
      ],
      "metadata": {
        "id": "pvZIkxJnnNBV"
      },
      "execution_count": 135,
      "outputs": []
    },
    {
      "cell_type": "code",
      "source": [
        "tensor_c = tensor_a + tensor_b\n",
        "tensor_c"
      ],
      "metadata": {
        "id": "-BXwuuH1nYqz",
        "colab": {
          "base_uri": "https://localhost:8080/"
        },
        "outputId": "9bb78874-40cd-4ff9-9c4b-8eccc1bd9995"
      },
      "execution_count": 136,
      "outputs": [
        {
          "output_type": "execute_result",
          "data": {
            "text/plain": [
              "<tf.Tensor: shape=(2, 3), dtype=float32, numpy=\n",
              "array([[ 8., 10., 12.],\n",
              "       [14., 16., 18.]], dtype=float32)>"
            ]
          },
          "metadata": {},
          "execution_count": 136
        }
      ]
    },
    {
      "cell_type": "code",
      "source": [
        "tensor_d = tf.math.square(tensor_c)\n",
        "tensor_d"
      ],
      "metadata": {
        "id": "fAsAAZkJna3z",
        "colab": {
          "base_uri": "https://localhost:8080/"
        },
        "outputId": "9549d101-a1c8-453f-9919-6b3fd01d9ba6"
      },
      "execution_count": 137,
      "outputs": [
        {
          "output_type": "execute_result",
          "data": {
            "text/plain": [
              "<tf.Tensor: shape=(2, 3), dtype=float32, numpy=\n",
              "array([[ 64., 100., 144.],\n",
              "       [196., 256., 324.]], dtype=float32)>"
            ]
          },
          "metadata": {},
          "execution_count": 137
        }
      ]
    },
    {
      "cell_type": "code",
      "source": [
        "tensor_d = tf.square(tensor_c)\n",
        "tensor_d"
      ],
      "metadata": {
        "id": "rBdKBlhGncJJ",
        "colab": {
          "base_uri": "https://localhost:8080/"
        },
        "outputId": "969d5378-6cca-487a-998d-0261b1a7a493"
      },
      "execution_count": 138,
      "outputs": [
        {
          "output_type": "execute_result",
          "data": {
            "text/plain": [
              "<tf.Tensor: shape=(2, 3), dtype=float32, numpy=\n",
              "array([[ 64., 100., 144.],\n",
              "       [196., 256., 324.]], dtype=float32)>"
            ]
          },
          "metadata": {},
          "execution_count": 138
        }
      ]
    },
    {
      "cell_type": "code",
      "source": [
        "tensor_e = tf.math.log(tensor_d)\n",
        "tensor_e"
      ],
      "metadata": {
        "id": "rhlx5IZXndjx",
        "colab": {
          "base_uri": "https://localhost:8080/"
        },
        "outputId": "25248b8e-78b2-4695-dcaf-0e9e3dd88f2f"
      },
      "execution_count": 139,
      "outputs": [
        {
          "output_type": "execute_result",
          "data": {
            "text/plain": [
              "<tf.Tensor: shape=(2, 3), dtype=float32, numpy=\n",
              "array([[4.158883 , 4.6051702, 4.9698133],\n",
              "       [5.278115 , 5.5451775, 5.7807436]], dtype=float32)>"
            ]
          },
          "metadata": {},
          "execution_count": 139
        }
      ]
    },
    {
      "cell_type": "markdown",
      "source": [
        "미분"
      ],
      "metadata": {
        "id": "XJAEusj_neqK"
      }
    },
    {
      "cell_type": "code",
      "source": [
        "tensor_var_a = tf.Variable([[1., 2., 3.],\n",
        "                            [4., 5., 6.]])\n",
        "\n",
        "tensor_var_b = tf.Variable([[7., 8., 9.],\n",
        "                            [10., 11., 12.]])"
      ],
      "metadata": {
        "id": "Uxmzj71rnlCN"
      },
      "execution_count": 140,
      "outputs": []
    },
    {
      "cell_type": "code",
      "source": [
        "tensor_var_a"
      ],
      "metadata": {
        "id": "NyXBL__MnmQM",
        "colab": {
          "base_uri": "https://localhost:8080/"
        },
        "outputId": "bd5df7c7-b834-4228-9fb4-b195d107109b"
      },
      "execution_count": 141,
      "outputs": [
        {
          "output_type": "execute_result",
          "data": {
            "text/plain": [
              "<tf.Variable 'Variable:0' shape=(2, 3) dtype=float32, numpy=\n",
              "array([[1., 2., 3.],\n",
              "       [4., 5., 6.]], dtype=float32)>"
            ]
          },
          "metadata": {},
          "execution_count": 141
        }
      ]
    },
    {
      "cell_type": "code",
      "source": [
        "tensor_var_b"
      ],
      "metadata": {
        "id": "fYPwCjq2oDzz",
        "colab": {
          "base_uri": "https://localhost:8080/"
        },
        "outputId": "d11a428b-9f04-4b3b-8277-a6144a255e3c"
      },
      "execution_count": 142,
      "outputs": [
        {
          "output_type": "execute_result",
          "data": {
            "text/plain": [
              "<tf.Variable 'Variable:0' shape=(2, 3) dtype=float32, numpy=\n",
              "array([[ 7.,  8.,  9.],\n",
              "       [10., 11., 12.]], dtype=float32)>"
            ]
          },
          "metadata": {},
          "execution_count": 142
        }
      ]
    },
    {
      "cell_type": "code",
      "source": [
        "with tf.GradientTape() as tape:\n",
        "  tensor_var_c = tf.square(tensor_var_a + tensor_var_b)\n",
        "  gradient_ca = tape.gradient(target=tensor_var_c, sources=tensor_var_a)\n",
        "  print(gradient_ca)"
      ],
      "metadata": {
        "id": "LREpf0GzoF7x",
        "colab": {
          "base_uri": "https://localhost:8080/"
        },
        "outputId": "0ee88b24-3a99-4358-8d30-31a25898344d"
      },
      "execution_count": 143,
      "outputs": [
        {
          "output_type": "stream",
          "name": "stdout",
          "text": [
            "tf.Tensor(\n",
            "[[16. 20. 24.]\n",
            " [28. 32. 36.]], shape=(2, 3), dtype=float32)\n"
          ]
        }
      ]
    },
    {
      "cell_type": "markdown",
      "source": [
        "Practice"
      ],
      "metadata": {
        "id": "Lwo-yf3hoIUb"
      }
    },
    {
      "cell_type": "markdown",
      "source": [
        " tensorflow 연산자를 이용해 z = (x+y)^2 계산식에서 x 값이 z 값에 미치는 영향도(미분) 계산"
      ],
      "metadata": {
        "id": "pBs9lWHPoNTL"
      }
    },
    {
      "cell_type": "markdown",
      "source": [
        " [출력 결과]\n",
        "[[*.**  *.**  *.**]\n",
        " [*.**  *.**  *.**]]"
      ],
      "metadata": {
        "id": "ytf59q_UofjT"
      }
    },
    {
      "cell_type": "code",
      "source": [
        "tensor_x = tf.Variable([[1., 2., 3.],\n",
        "                        [4., 5., 6.]])\n",
        "\n",
        "tensor_y = tf.Variable([[7., 8., 9.],\n",
        "                        [10., 11., 12.]])"
      ],
      "metadata": {
        "id": "bM5mwZtFoMMr"
      },
      "execution_count": 144,
      "outputs": []
    },
    {
      "cell_type": "code",
      "source": [
        "with tf.GradientTape() as tape:\n",
        "\n",
        "  tensor_z = tf.square(tensor_x + tensor_y)\n",
        "\n",
        "  gradient_xz = tape.gradient(target=tensor_z, sources=tensor_x)\n",
        "  \n",
        "  print(np.round(gradient_xz), 2)"
      ],
      "metadata": {
        "colab": {
          "base_uri": "https://localhost:8080/"
        },
        "id": "MQN3KwuhmRT2",
        "outputId": "8e50281b-4c2f-4cd8-a735-8573bbf45bf8"
      },
      "execution_count": 145,
      "outputs": [
        {
          "output_type": "stream",
          "name": "stdout",
          "text": [
            "[[16. 20. 24.]\n",
            " [28. 32. 36.]] 2\n"
          ]
        }
      ]
    },
    {
      "cell_type": "markdown",
      "source": [
        "Perceptron"
      ],
      "metadata": {
        "id": "tRoAJcmxouU5"
      }
    },
    {
      "cell_type": "code",
      "source": [
        "# 파라미터 값(input 특성 개수, 퍼셉트론의 개수, 학습률) 설정\n",
        "input_dim = 2\n",
        "hidden_units = 1"
      ],
      "metadata": {
        "id": "SWjrkeWmo3UW"
      },
      "execution_count": 146,
      "outputs": []
    },
    {
      "cell_type": "code",
      "source": [
        "# 가중치(input 특성 : 2/ 퍼셉트론 : 1)\n",
        "w = tf.Variable(tf.random.uniform(shape=(input_dim, hidden_units)))\n",
        "\n",
        "# 편향(퍼셉트론 : 1)\n",
        "b = tf.Variable(tf.zeros(shape=()))"
      ],
      "metadata": {
        "id": "FA8cS4FJo8im"
      },
      "execution_count": 147,
      "outputs": []
    },
    {
      "cell_type": "code",
      "source": [
        "w"
      ],
      "metadata": {
        "id": "KrJ7w3AQo95G",
        "colab": {
          "base_uri": "https://localhost:8080/"
        },
        "outputId": "91433f0a-c8fa-4736-aba7-c74b3c2e584c"
      },
      "execution_count": 148,
      "outputs": [
        {
          "output_type": "execute_result",
          "data": {
            "text/plain": [
              "<tf.Variable 'Variable:0' shape=(2, 1) dtype=float32, numpy=\n",
              "array([[0.28051722],\n",
              "       [0.03464222]], dtype=float32)>"
            ]
          },
          "metadata": {},
          "execution_count": 148
        }
      ]
    },
    {
      "cell_type": "code",
      "source": [
        "b"
      ],
      "metadata": {
        "id": "efhuim9Go-R3",
        "colab": {
          "base_uri": "https://localhost:8080/"
        },
        "outputId": "d24b5c5a-64ca-4c3a-eec0-62c9db6c4b8d"
      },
      "execution_count": 149,
      "outputs": [
        {
          "output_type": "execute_result",
          "data": {
            "text/plain": [
              "<tf.Variable 'Variable:0' shape=() dtype=float32, numpy=0.0>"
            ]
          },
          "metadata": {},
          "execution_count": 149
        }
      ]
    },
    {
      "cell_type": "code",
      "source": [
        "# 퍼셉트론의 수학 모델 f(x*w + b)\n",
        "def predict(input):\n",
        "  x = tf.matmul(input, w) + b\n",
        "  x = tf.maximum(0, x)\n",
        "  return x"
      ],
      "metadata": {
        "id": "fLgSKIWzo_zz"
      },
      "execution_count": 150,
      "outputs": []
    },
    {
      "cell_type": "code",
      "source": [
        "# loss(mse)\n",
        "def mse_loss(labels, predictions):\n",
        "  loss = tf.reduce_mean(tf.square(labels - predictions))\n",
        "  return loss"
      ],
      "metadata": {
        "id": "mU3vmlOTpBKB"
      },
      "execution_count": 151,
      "outputs": []
    },
    {
      "cell_type": "code",
      "source": [
        "# train\n",
        "def train(inputs, labels):\n",
        "  with tf.GradientTape() as tape:\n",
        "    # 퍼셉트론 모델을 예측값을 계산\n",
        "    predictions = predict(inputs)\n",
        "    # 모델의 예측값과 정답간의 에러를 loss 을 이용해 계산\n",
        "    loss = mse_loss(labels, predictions)\n",
        "    # 모델의 변수(w, b) loss 값에 미치는 영향도를 미분(오차역전파)을 통해 계산\n",
        "    gradient_lw, gradient_lb = tape.gradient(loss, [w, b])\n",
        "  # 경사하강법을 수행해서 모델의 변수(w, b) 업데이트\n",
        "  w.assign(w = learning_rate * gradient_lw)\n",
        "  b.assign(b = learning_rate * gradient_lb)\n",
        "  return loss"
      ],
      "metadata": {
        "id": "9L-MYGZJpCUp"
      },
      "execution_count": 177,
      "outputs": []
    },
    {
      "cell_type": "markdown",
      "source": [
        "퍼셉트론 모델 학습을 위한 AND Gate 데이터 생성"
      ],
      "metadata": {
        "id": "66ZZNDGmye6t"
      }
    },
    {
      "cell_type": "code",
      "source": [
        "# 퍼셉트론 모델 학습을 위한 AND Gate 데이터 생성\n",
        "inputs = np.array([[0, 0],\n",
        "                   [0, 1],\n",
        "                   [1, 0],\n",
        "                   [1, 1]], dtype=np.float32)\n",
        "\n",
        "labels = np.array([0, 0, 0, 1], dtype=np.float32)"
      ],
      "metadata": {
        "id": "vFNpZKXqygPS"
      },
      "execution_count": 178,
      "outputs": []
    },
    {
      "cell_type": "code",
      "source": [
        "import matplotlib.pyplot as plt\n",
        "%matplotlib inline"
      ],
      "metadata": {
        "id": "jxWCfH6XzPVu"
      },
      "execution_count": 179,
      "outputs": []
    },
    {
      "cell_type": "code",
      "source": [
        "plt.scatter(inputs[:, 0], inputs[:, 1], c=labels[:])"
      ],
      "metadata": {
        "id": "oLWRtTJyzGl_",
        "colab": {
          "base_uri": "https://localhost:8080/",
          "height": 283
        },
        "outputId": "aa3e89b4-8440-4f63-97e5-2a9f360c1890"
      },
      "execution_count": 180,
      "outputs": [
        {
          "output_type": "execute_result",
          "data": {
            "text/plain": [
              "<matplotlib.collections.PathCollection at 0x7f14c729d910>"
            ]
          },
          "metadata": {},
          "execution_count": 180
        },
        {
          "output_type": "display_data",
          "data": {
            "text/plain": [
              "<Figure size 432x288 with 1 Axes>"
            ],
            "image/png": "[encoded data removed]"
          },
          "metadata": {
            "needs_background": "light"
          }
        }
      ]
    },
    {
      "cell_type": "code",
      "source": [
        "\n",
        "# train 함수를 반복적으로 실행하여 퍼셉트론 모델을 학습\n",
        "\n",
        "for epoch in range(100):\n",
        "  # input 데이터와 label 데이터를 한 건씩 추출하여 train 함수에 전달\n",
        "  for x, y in zip(inputs, labels):\n",
        "    loss = train([x], [y])\n",
        "\n",
        "# 학습된 모델에 input 데이터 입력하여 예측결과 계산\n",
        "predictions = predict(inputs)\n"
      ],
      "metadata": {
        "id": "Sb50L2smyjuq",
        "colab": {
          "base_uri": "https://localhost:8080/",
          "height": 376
        },
        "outputId": "b0fd2610-8c6a-430a-f639-eeef5a4ee63e"
      },
      "execution_count": 181,
      "outputs": [
        {
          "output_type": "error",
          "ename": "NameError",
          "evalue": "ignored",
          "traceback": [
            "\u001b[0;31m---------------------------------------------------------------------------\u001b[0m",
            "\u001b[0;31mNameError\u001b[0m                                 Traceback (most recent call last)",
            "\u001b[0;32m<ipython-input-181-605b49c13865>\u001b[0m in \u001b[0;36m<module>\u001b[0;34m()\u001b[0m\n\u001b[1;32m      5\u001b[0m   \u001b[0;31m# input 데이터와 label 데이터를 한 건씩 추출하여 train 함수에 전달\u001b[0m\u001b[0;34m\u001b[0m\u001b[0;34m\u001b[0m\u001b[0;34m\u001b[0m\u001b[0m\n\u001b[1;32m      6\u001b[0m   \u001b[0;32mfor\u001b[0m \u001b[0mx\u001b[0m\u001b[0;34m,\u001b[0m \u001b[0my\u001b[0m \u001b[0;32min\u001b[0m \u001b[0mzip\u001b[0m\u001b[0;34m(\u001b[0m\u001b[0minputs\u001b[0m\u001b[0;34m,\u001b[0m \u001b[0mlabels\u001b[0m\u001b[0;34m)\u001b[0m\u001b[0;34m:\u001b[0m\u001b[0;34m\u001b[0m\u001b[0;34m\u001b[0m\u001b[0m\n\u001b[0;32m----> 7\u001b[0;31m     \u001b[0mloss\u001b[0m \u001b[0;34m=\u001b[0m \u001b[0mtrain\u001b[0m\u001b[0;34m(\u001b[0m\u001b[0;34m[\u001b[0m\u001b[0mx\u001b[0m\u001b[0;34m]\u001b[0m\u001b[0;34m,\u001b[0m \u001b[0;34m[\u001b[0m\u001b[0my\u001b[0m\u001b[0;34m]\u001b[0m\u001b[0;34m)\u001b[0m\u001b[0;34m\u001b[0m\u001b[0;34m\u001b[0m\u001b[0m\n\u001b[0m\u001b[1;32m      8\u001b[0m \u001b[0;34m\u001b[0m\u001b[0m\n\u001b[1;32m      9\u001b[0m \u001b[0;31m# 학습된 모델에 input 데이터 입력하여 예측결과 계산\u001b[0m\u001b[0;34m\u001b[0m\u001b[0;34m\u001b[0m\u001b[0;34m\u001b[0m\u001b[0m\n",
            "\u001b[0;32m<ipython-input-177-46930cd33d9b>\u001b[0m in \u001b[0;36mtrain\u001b[0;34m(inputs, labels)\u001b[0m\n\u001b[1;32m      9\u001b[0m     \u001b[0mgradient_lw\u001b[0m\u001b[0;34m,\u001b[0m \u001b[0mgradient_lb\u001b[0m \u001b[0;34m=\u001b[0m \u001b[0mtape\u001b[0m\u001b[0;34m.\u001b[0m\u001b[0mgradient\u001b[0m\u001b[0;34m(\u001b[0m\u001b[0mloss\u001b[0m\u001b[0;34m,\u001b[0m \u001b[0;34m[\u001b[0m\u001b[0mw\u001b[0m\u001b[0;34m,\u001b[0m \u001b[0mb\u001b[0m\u001b[0;34m]\u001b[0m\u001b[0;34m)\u001b[0m\u001b[0;34m\u001b[0m\u001b[0;34m\u001b[0m\u001b[0m\n\u001b[1;32m     10\u001b[0m   \u001b[0;31m# 경사하강법을 수행해서 모델의 변수(w, b) 업데이트\u001b[0m\u001b[0;34m\u001b[0m\u001b[0;34m\u001b[0m\u001b[0;34m\u001b[0m\u001b[0m\n\u001b[0;32m---> 11\u001b[0;31m   \u001b[0mw\u001b[0m\u001b[0;34m.\u001b[0m\u001b[0massign\u001b[0m\u001b[0;34m(\u001b[0m\u001b[0mw\u001b[0m \u001b[0;34m=\u001b[0m \u001b[0mlearning_rate\u001b[0m \u001b[0;34m*\u001b[0m \u001b[0mgradient_lw\u001b[0m\u001b[0;34m)\u001b[0m\u001b[0;34m\u001b[0m\u001b[0;34m\u001b[0m\u001b[0m\n\u001b[0m\u001b[1;32m     12\u001b[0m   \u001b[0mb\u001b[0m\u001b[0;34m.\u001b[0m\u001b[0massign\u001b[0m\u001b[0;34m(\u001b[0m\u001b[0mb\u001b[0m \u001b[0;34m=\u001b[0m \u001b[0mlearning_rate\u001b[0m \u001b[0;34m*\u001b[0m \u001b[0mgradient_lb\u001b[0m\u001b[0;34m)\u001b[0m\u001b[0;34m\u001b[0m\u001b[0;34m\u001b[0m\u001b[0m\n\u001b[1;32m     13\u001b[0m   \u001b[0;32mreturn\u001b[0m \u001b[0mloss\u001b[0m\u001b[0;34m\u001b[0m\u001b[0;34m\u001b[0m\u001b[0m\n",
            "\u001b[0;31mNameError\u001b[0m: name 'learning_rate' is not defined"
          ]
        }
      ]
    },
    {
      "cell_type": "code",
      "source": [
        "print('*******모델의 예측 결과*******')\n",
        "print(predictions[:]> 0.5)"
      ],
      "metadata": {
        "id": "2JvPVr2gyoEa",
        "colab": {
          "base_uri": "https://localhost:8080/",
          "height": 211
        },
        "outputId": "b42607fa-8632-42aa-d76d-d2babfc2ec39"
      },
      "execution_count": 164,
      "outputs": [
        {
          "output_type": "stream",
          "name": "stdout",
          "text": [
            "*******모델의 예측 결과*******\n"
          ]
        },
        {
          "output_type": "error",
          "ename": "NameError",
          "evalue": "ignored",
          "traceback": [
            "\u001b[0;31m---------------------------------------------------------------------------\u001b[0m",
            "\u001b[0;31mNameError\u001b[0m                                 Traceback (most recent call last)",
            "\u001b[0;32m<ipython-input-164-9adcc5728c76>\u001b[0m in \u001b[0;36m<module>\u001b[0;34m()\u001b[0m\n\u001b[1;32m      1\u001b[0m \u001b[0mprint\u001b[0m\u001b[0;34m(\u001b[0m\u001b[0;34m'*******모델의 예측 결과*******'\u001b[0m\u001b[0;34m)\u001b[0m\u001b[0;34m\u001b[0m\u001b[0;34m\u001b[0m\u001b[0m\n\u001b[0;32m----> 2\u001b[0;31m \u001b[0mprint\u001b[0m\u001b[0;34m(\u001b[0m\u001b[0mpredictions\u001b[0m\u001b[0;34m[\u001b[0m\u001b[0;34m:\u001b[0m\u001b[0;34m]\u001b[0m\u001b[0;34m>\u001b[0m \u001b[0;36m0.5\u001b[0m\u001b[0;34m)\u001b[0m\u001b[0;34m\u001b[0m\u001b[0;34m\u001b[0m\u001b[0m\n\u001b[0m",
            "\u001b[0;31mNameError\u001b[0m: name 'predictions' is not defined"
          ]
        }
      ]
    },
    {
      "cell_type": "code",
      "source": [
        "test_inputs = np.random.uniform(0, 1, (5000, 2)).astype(np.float32)"
      ],
      "metadata": {
        "id": "4Df8QkCmytaL"
      },
      "execution_count": 163,
      "outputs": []
    },
    {
      "cell_type": "code",
      "source": [
        "test_inputs"
      ],
      "metadata": {
        "id": "aajCG7W0zc4r",
        "colab": {
          "base_uri": "https://localhost:8080/",
          "height": 174
        },
        "outputId": "bd349777-6be7-4d43-b859-157fbbd2f1a9"
      },
      "execution_count": 162,
      "outputs": [
        {
          "output_type": "error",
          "ename": "NameError",
          "evalue": "ignored",
          "traceback": [
            "\u001b[0;31m---------------------------------------------------------------------------\u001b[0m",
            "\u001b[0;31mNameError\u001b[0m                                 Traceback (most recent call last)",
            "\u001b[0;32m<ipython-input-162-05c3cc901b55>\u001b[0m in \u001b[0;36m<module>\u001b[0;34m()\u001b[0m\n\u001b[0;32m----> 1\u001b[0;31m \u001b[0mtest_inputs\u001b[0m\u001b[0;34m\u001b[0m\u001b[0;34m\u001b[0m\u001b[0m\n\u001b[0m",
            "\u001b[0;31mNameError\u001b[0m: name 'test_inputs' is not defined"
          ]
        }
      ]
    },
    {
      "cell_type": "code",
      "source": [
        "predictions = predict(test_inputs)\n",
        "plt.scatter(test_inputs[:, 0], test_inputs[:, 1], c=predictions[:]> 0.5)"
      ],
      "metadata": {
        "id": "Bz_iefyEzg5e",
        "colab": {
          "base_uri": "https://localhost:8080/",
          "height": 193
        },
        "outputId": "638d15e7-d206-4878-865c-2b18fd604130"
      },
      "execution_count": 161,
      "outputs": [
        {
          "output_type": "error",
          "ename": "NameError",
          "evalue": "ignored",
          "traceback": [
            "\u001b[0;31m---------------------------------------------------------------------------\u001b[0m",
            "\u001b[0;31mNameError\u001b[0m                                 Traceback (most recent call last)",
            "\u001b[0;32m<ipython-input-161-6d71b8aeabc9>\u001b[0m in \u001b[0;36m<module>\u001b[0;34m()\u001b[0m\n\u001b[0;32m----> 1\u001b[0;31m \u001b[0mpredictions\u001b[0m \u001b[0;34m=\u001b[0m \u001b[0mpredict\u001b[0m\u001b[0;34m(\u001b[0m\u001b[0mtest_inputs\u001b[0m\u001b[0;34m)\u001b[0m\u001b[0;34m\u001b[0m\u001b[0;34m\u001b[0m\u001b[0m\n\u001b[0m\u001b[1;32m      2\u001b[0m \u001b[0mplt\u001b[0m\u001b[0;34m.\u001b[0m\u001b[0mscatter\u001b[0m\u001b[0;34m(\u001b[0m\u001b[0mtest_inputs\u001b[0m\u001b[0;34m[\u001b[0m\u001b[0;34m:\u001b[0m\u001b[0;34m,\u001b[0m \u001b[0;36m0\u001b[0m\u001b[0;34m]\u001b[0m\u001b[0;34m,\u001b[0m \u001b[0mtest_inputs\u001b[0m\u001b[0;34m[\u001b[0m\u001b[0;34m:\u001b[0m\u001b[0;34m,\u001b[0m \u001b[0;36m1\u001b[0m\u001b[0;34m]\u001b[0m\u001b[0;34m,\u001b[0m \u001b[0mc\u001b[0m\u001b[0;34m=\u001b[0m\u001b[0mpredictions\u001b[0m\u001b[0;34m[\u001b[0m\u001b[0;34m:\u001b[0m\u001b[0;34m]\u001b[0m\u001b[0;34m>\u001b[0m \u001b[0;36m0.5\u001b[0m\u001b[0;34m)\u001b[0m\u001b[0;34m\u001b[0m\u001b[0;34m\u001b[0m\u001b[0m\n",
            "\u001b[0;31mNameError\u001b[0m: name 'test_inputs' is not defined"
          ]
        }
      ]
    },
    {
      "cell_type": "markdown",
      "source": [
        "practice"
      ],
      "metadata": {
        "id": "Xj166DMZpJL_"
      }
    },
    {
      "cell_type": "markdown",
      "source": [
        "퍼셉트론 모델 학습을 위한 OR Gate 데이터 생성"
      ],
      "metadata": {
        "id": "2c05iIxrf0VD"
      }
    },
    {
      "cell_type": "code",
      "source": [
        "inputs = np.array([[0, 0],\n",
        "                   [0, 1],\n",
        "                   [1, 0],\n",
        "                   [1, 1]], dtype=np.float32)\n",
        "\n",
        "labels = np.array([0, 1, 1, 1], dtype=np.float32)"
      ],
      "metadata": {
        "id": "4di-YaUMph9j"
      },
      "execution_count": 160,
      "outputs": []
    },
    {
      "cell_type": "code",
      "source": [
        ""
      ],
      "metadata": {
        "id": "tIhpQ52el5QK"
      },
      "execution_count": null,
      "outputs": []
    }
  ]
}